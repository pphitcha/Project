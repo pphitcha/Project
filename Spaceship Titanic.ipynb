{
 "cells": [
  {
   "cell_type": "markdown",
   "id": "1806e503",
   "metadata": {
    "papermill": {
     "duration": 0.027108,
     "end_time": "2022-10-30T14:40:14.702894",
     "exception": false,
     "start_time": "2022-10-30T14:40:14.675786",
     "status": "completed"
    },
    "tags": []
   },
   "source": [
    "# Import required libraries"
   ]
  },
  {
   "cell_type": "code",
   "execution_count": 1,
   "id": "7b6437ea",
   "metadata": {
    "execution": {
     "iopub.execute_input": "2022-10-30T14:40:14.756696Z",
     "iopub.status.busy": "2022-10-30T14:40:14.755913Z",
     "iopub.status.idle": "2022-10-30T14:40:16.265876Z",
     "shell.execute_reply": "2022-10-30T14:40:16.264913Z"
    },
    "papermill": {
     "duration": 1.539102,
     "end_time": "2022-10-30T14:40:16.268845",
     "exception": false,
     "start_time": "2022-10-30T14:40:14.729743",
     "status": "completed"
    },
    "tags": []
   },
   "outputs": [],
   "source": [
    "# For loading Packages\n",
    "import pandas as pd\n",
    "pd.set_option('max_columns', None)\n",
    "pd.set_option('max_rows', 100)\n",
    "\n",
    "# For mathematical calculations\n",
    "import numpy as np\n",
    "\n",
    "# For data visualization\n",
    "import matplotlib.pyplot as plt\n",
    "import seaborn as sns\n",
    "sns.set_style(\"darkgrid\")\n",
    "\n",
    "# To build and evaluate model\n",
    "from sklearn.ensemble import RandomForestClassifier\n",
    "from sklearn.metrics import accuracy_score\n",
    "from sklearn.model_selection import cross_val_score\n",
    "from sklearn.model_selection import GridSearchCV\n",
    "from sklearn.feature_selection import SelectKBest, chi2\n",
    "from sklearn.model_selection import train_test_split\n",
    "from sklearn.linear_model import LogisticRegression\n",
    "from sklearn.metrics import classification_report, confusion_matrix\n",
    "from sklearn.neighbors import KNeighborsClassifier\n",
    "from sklearn.model_selection import train_test_split\n",
    "from sklearn.tree import DecisionTreeClassifier\n",
    "from sklearn.naive_bayes import GaussianNB\n",
    "from sklearn.svm import SVC\n",
    "from sklearn.pipeline import make_pipeline\n",
    "from sklearn.preprocessing import StandardScaler\n",
    "from sklearn.linear_model import SGDClassifier\n",
    "from tabulate import tabulate\n",
    "\n",
    "# To ignore any warnings\n",
    "import warnings\n",
    "warnings.filterwarnings(\"ignore\")"
   ]
  },
  {
   "cell_type": "markdown",
   "id": "3ca9440a",
   "metadata": {
    "papermill": {
     "duration": 0.023834,
     "end_time": "2022-10-30T14:40:16.320002",
     "exception": false,
     "start_time": "2022-10-30T14:40:16.296168",
     "status": "completed"
    },
    "tags": []
   },
   "source": [
    "# Data\n"
   ]
  },
  {
   "cell_type": "markdown",
   "id": "1f290487",
   "metadata": {
    "papermill": {
     "duration": 0.024381,
     "end_time": "2022-10-30T14:40:16.368807",
     "exception": false,
     "start_time": "2022-10-30T14:40:16.344426",
     "status": "completed"
    },
    "tags": []
   },
   "source": [
    "**Raeding data**"
   ]
  },
  {
   "cell_type": "code",
   "execution_count": 2,
   "id": "575c5206",
   "metadata": {
    "execution": {
     "iopub.execute_input": "2022-10-30T14:40:16.419960Z",
     "iopub.status.busy": "2022-10-30T14:40:16.419061Z",
     "iopub.status.idle": "2022-10-30T14:40:16.502863Z",
     "shell.execute_reply": "2022-10-30T14:40:16.501723Z"
    },
    "papermill": {
     "duration": 0.112556,
     "end_time": "2022-10-30T14:40:16.505673",
     "exception": false,
     "start_time": "2022-10-30T14:40:16.393117",
     "status": "completed"
    },
    "tags": []
   },
   "outputs": [],
   "source": [
    "# Read train data\n",
    "train_df = pd.read_csv(\"../input/spaceship-titanic/train.csv\")\n",
    "# Read test data\n",
    "test_df = pd.read_csv(\"../input/spaceship-titanic/test.csv\")"
   ]
  },
  {
   "cell_type": "markdown",
   "id": "62f49158",
   "metadata": {
    "papermill": {
     "duration": 0.024006,
     "end_time": "2022-10-30T14:40:16.554503",
     "exception": false,
     "start_time": "2022-10-30T14:40:16.530497",
     "status": "completed"
    },
    "tags": []
   },
   "source": [
    "# Exploratory Data Analysis (EDA)"
   ]
  },
  {
   "cell_type": "code",
   "execution_count": 3,
   "id": "904b610c",
   "metadata": {
    "execution": {
     "iopub.execute_input": "2022-10-30T14:40:16.605917Z",
     "iopub.status.busy": "2022-10-30T14:40:16.605416Z",
     "iopub.status.idle": "2022-10-30T14:40:16.616888Z",
     "shell.execute_reply": "2022-10-30T14:40:16.615694Z"
    },
    "papermill": {
     "duration": 0.039965,
     "end_time": "2022-10-30T14:40:16.619204",
     "exception": false,
     "start_time": "2022-10-30T14:40:16.579239",
     "status": "completed"
    },
    "tags": []
   },
   "outputs": [
    {
     "name": "stdout",
     "output_type": "stream",
     "text": [
      "PassengerId      object\n",
      "HomePlanet       object\n",
      "CryoSleep        object\n",
      "Cabin            object\n",
      "Destination      object\n",
      "Age             float64\n",
      "VIP              object\n",
      "RoomService     float64\n",
      "FoodCourt       float64\n",
      "ShoppingMall    float64\n",
      "Spa             float64\n",
      "VRDeck          float64\n",
      "Name             object\n",
      "Transported        bool\n",
      "dtype: object\n",
      "\n",
      "PassengerId      object\n",
      "HomePlanet       object\n",
      "CryoSleep        object\n",
      "Cabin            object\n",
      "Destination      object\n",
      "Age             float64\n",
      "VIP              object\n",
      "RoomService     float64\n",
      "FoodCourt       float64\n",
      "ShoppingMall    float64\n",
      "Spa             float64\n",
      "VRDeck          float64\n",
      "Name             object\n",
      "dtype: object\n"
     ]
    }
   ],
   "source": [
    "# print datatypes of the train data\n",
    "train_df.dtypes\n",
    "\n",
    "test_df.dtypes\n",
    "\n",
    "print(train_df.dtypes)\n",
    "print('')\n",
    "print(test_df.dtypes )"
   ]
  },
  {
   "cell_type": "code",
   "execution_count": 4,
   "id": "cb79ae81",
   "metadata": {
    "execution": {
     "iopub.execute_input": "2022-10-30T14:40:16.670927Z",
     "iopub.status.busy": "2022-10-30T14:40:16.669646Z",
     "iopub.status.idle": "2022-10-30T14:40:16.700552Z",
     "shell.execute_reply": "2022-10-30T14:40:16.698754Z"
    },
    "papermill": {
     "duration": 0.059357,
     "end_time": "2022-10-30T14:40:16.703333",
     "exception": false,
     "start_time": "2022-10-30T14:40:16.643976",
     "status": "completed"
    },
    "tags": []
   },
   "outputs": [
    {
     "name": "stdout",
     "output_type": "stream",
     "text": [
      "The shape of the train dataset is:  (8693, 14)\n",
      "The shape of the test dataset is:  (4277, 13)\n"
     ]
    },
    {
     "data": {
      "text/html": [
       "<div>\n",
       "<style scoped>\n",
       "    .dataframe tbody tr th:only-of-type {\n",
       "        vertical-align: middle;\n",
       "    }\n",
       "\n",
       "    .dataframe tbody tr th {\n",
       "        vertical-align: top;\n",
       "    }\n",
       "\n",
       "    .dataframe thead th {\n",
       "        text-align: right;\n",
       "    }\n",
       "</style>\n",
       "<table border=\"1\" class=\"dataframe\">\n",
       "  <thead>\n",
       "    <tr style=\"text-align: right;\">\n",
       "      <th></th>\n",
       "      <th>PassengerId</th>\n",
       "      <th>HomePlanet</th>\n",
       "      <th>CryoSleep</th>\n",
       "      <th>Cabin</th>\n",
       "      <th>Destination</th>\n",
       "      <th>Age</th>\n",
       "      <th>VIP</th>\n",
       "      <th>RoomService</th>\n",
       "      <th>FoodCourt</th>\n",
       "      <th>ShoppingMall</th>\n",
       "      <th>Spa</th>\n",
       "      <th>VRDeck</th>\n",
       "      <th>Name</th>\n",
       "      <th>Transported</th>\n",
       "    </tr>\n",
       "  </thead>\n",
       "  <tbody>\n",
       "    <tr>\n",
       "      <th>0</th>\n",
       "      <td>0001_01</td>\n",
       "      <td>Europa</td>\n",
       "      <td>False</td>\n",
       "      <td>B/0/P</td>\n",
       "      <td>TRAPPIST-1e</td>\n",
       "      <td>39.0</td>\n",
       "      <td>False</td>\n",
       "      <td>0.0</td>\n",
       "      <td>0.0</td>\n",
       "      <td>0.0</td>\n",
       "      <td>0.0</td>\n",
       "      <td>0.0</td>\n",
       "      <td>Maham Ofracculy</td>\n",
       "      <td>False</td>\n",
       "    </tr>\n",
       "    <tr>\n",
       "      <th>1</th>\n",
       "      <td>0002_01</td>\n",
       "      <td>Earth</td>\n",
       "      <td>False</td>\n",
       "      <td>F/0/S</td>\n",
       "      <td>TRAPPIST-1e</td>\n",
       "      <td>24.0</td>\n",
       "      <td>False</td>\n",
       "      <td>109.0</td>\n",
       "      <td>9.0</td>\n",
       "      <td>25.0</td>\n",
       "      <td>549.0</td>\n",
       "      <td>44.0</td>\n",
       "      <td>Juanna Vines</td>\n",
       "      <td>True</td>\n",
       "    </tr>\n",
       "    <tr>\n",
       "      <th>2</th>\n",
       "      <td>0003_01</td>\n",
       "      <td>Europa</td>\n",
       "      <td>False</td>\n",
       "      <td>A/0/S</td>\n",
       "      <td>TRAPPIST-1e</td>\n",
       "      <td>58.0</td>\n",
       "      <td>True</td>\n",
       "      <td>43.0</td>\n",
       "      <td>3576.0</td>\n",
       "      <td>0.0</td>\n",
       "      <td>6715.0</td>\n",
       "      <td>49.0</td>\n",
       "      <td>Altark Susent</td>\n",
       "      <td>False</td>\n",
       "    </tr>\n",
       "    <tr>\n",
       "      <th>3</th>\n",
       "      <td>0003_02</td>\n",
       "      <td>Europa</td>\n",
       "      <td>False</td>\n",
       "      <td>A/0/S</td>\n",
       "      <td>TRAPPIST-1e</td>\n",
       "      <td>33.0</td>\n",
       "      <td>False</td>\n",
       "      <td>0.0</td>\n",
       "      <td>1283.0</td>\n",
       "      <td>371.0</td>\n",
       "      <td>3329.0</td>\n",
       "      <td>193.0</td>\n",
       "      <td>Solam Susent</td>\n",
       "      <td>False</td>\n",
       "    </tr>\n",
       "    <tr>\n",
       "      <th>4</th>\n",
       "      <td>0004_01</td>\n",
       "      <td>Earth</td>\n",
       "      <td>False</td>\n",
       "      <td>F/1/S</td>\n",
       "      <td>TRAPPIST-1e</td>\n",
       "      <td>16.0</td>\n",
       "      <td>False</td>\n",
       "      <td>303.0</td>\n",
       "      <td>70.0</td>\n",
       "      <td>151.0</td>\n",
       "      <td>565.0</td>\n",
       "      <td>2.0</td>\n",
       "      <td>Willy Santantines</td>\n",
       "      <td>True</td>\n",
       "    </tr>\n",
       "  </tbody>\n",
       "</table>\n",
       "</div>"
      ],
      "text/plain": [
       "  PassengerId HomePlanet CryoSleep  Cabin  Destination   Age    VIP  \\\n",
       "0     0001_01     Europa     False  B/0/P  TRAPPIST-1e  39.0  False   \n",
       "1     0002_01      Earth     False  F/0/S  TRAPPIST-1e  24.0  False   \n",
       "2     0003_01     Europa     False  A/0/S  TRAPPIST-1e  58.0   True   \n",
       "3     0003_02     Europa     False  A/0/S  TRAPPIST-1e  33.0  False   \n",
       "4     0004_01      Earth     False  F/1/S  TRAPPIST-1e  16.0  False   \n",
       "\n",
       "   RoomService  FoodCourt  ShoppingMall     Spa  VRDeck               Name  \\\n",
       "0          0.0        0.0           0.0     0.0     0.0    Maham Ofracculy   \n",
       "1        109.0        9.0          25.0   549.0    44.0       Juanna Vines   \n",
       "2         43.0     3576.0           0.0  6715.0    49.0      Altark Susent   \n",
       "3          0.0     1283.0         371.0  3329.0   193.0       Solam Susent   \n",
       "4        303.0       70.0         151.0   565.0     2.0  Willy Santantines   \n",
       "\n",
       "   Transported  \n",
       "0        False  \n",
       "1         True  \n",
       "2        False  \n",
       "3        False  \n",
       "4         True  "
      ]
     },
     "execution_count": 4,
     "metadata": {},
     "output_type": "execute_result"
    }
   ],
   "source": [
    "# Print shape of train data\n",
    "print(\"The shape of the train dataset is: \", train_df.shape)\n",
    "\n",
    "# Print shape of test data\n",
    "print(\"The shape of the test dataset is: \", test_df.shape)\n",
    "\n",
    "# Train data set preview \n",
    "train_df.head()"
   ]
  },
  {
   "cell_type": "markdown",
   "id": "f8a762bb",
   "metadata": {
    "papermill": {
     "duration": 0.024363,
     "end_time": "2022-10-30T14:40:16.753966",
     "exception": false,
     "start_time": "2022-10-30T14:40:16.729603",
     "status": "completed"
    },
    "tags": []
   },
   "source": [
    "**Missing Values**"
   ]
  },
  {
   "cell_type": "code",
   "execution_count": 5,
   "id": "6f841e1d",
   "metadata": {
    "execution": {
     "iopub.execute_input": "2022-10-30T14:40:16.805784Z",
     "iopub.status.busy": "2022-10-30T14:40:16.805384Z",
     "iopub.status.idle": "2022-10-30T14:40:16.821941Z",
     "shell.execute_reply": "2022-10-30T14:40:16.820444Z"
    },
    "papermill": {
     "duration": 0.045172,
     "end_time": "2022-10-30T14:40:16.824349",
     "exception": false,
     "start_time": "2022-10-30T14:40:16.779177",
     "status": "completed"
    },
    "tags": []
   },
   "outputs": [
    {
     "name": "stdout",
     "output_type": "stream",
     "text": [
      "TRAIN SET MISSING VALUES:\n",
      "PassengerId       0\n",
      "HomePlanet      201\n",
      "CryoSleep       217\n",
      "Cabin           199\n",
      "Destination     182\n",
      "Age             179\n",
      "VIP             203\n",
      "RoomService     181\n",
      "FoodCourt       183\n",
      "ShoppingMall    208\n",
      "Spa             183\n",
      "VRDeck          188\n",
      "Name            200\n",
      "Transported       0\n",
      "dtype: int64\n",
      "\n",
      "TEST SET MISSING VALUES:\n",
      "PassengerId       0\n",
      "HomePlanet       87\n",
      "CryoSleep        93\n",
      "Cabin           100\n",
      "Destination      92\n",
      "Age              91\n",
      "VIP              93\n",
      "RoomService      82\n",
      "FoodCourt       106\n",
      "ShoppingMall     98\n",
      "Spa             101\n",
      "VRDeck           80\n",
      "Name             94\n",
      "dtype: int64\n"
     ]
    }
   ],
   "source": [
    "print('TRAIN SET MISSING VALUES:')\n",
    "print(train_df.isna().sum())\n",
    "print('')\n",
    "print('TEST SET MISSING VALUES:')\n",
    "print(test_df.isna().sum())"
   ]
  },
  {
   "cell_type": "markdown",
   "id": "b9e55ab0",
   "metadata": {
    "papermill": {
     "duration": 0.024387,
     "end_time": "2022-10-30T14:40:16.874690",
     "exception": false,
     "start_time": "2022-10-30T14:40:16.850303",
     "status": "completed"
    },
    "tags": []
   },
   "source": [
    "**Univariate Analysis**\n",
    "\n",
    "*ทำการตรวจสอบข้อมูลแต่ละ Feature เพื่อทำความเข้าใจการกระจายของค่าต่าง ๆ*\n"
   ]
  },
  {
   "cell_type": "markdown",
   "id": "ba220f5c",
   "metadata": {
    "papermill": {
     "duration": 0.024483,
     "end_time": "2022-10-30T14:40:16.924196",
     "exception": false,
     "start_time": "2022-10-30T14:40:16.899713",
     "status": "completed"
    },
    "tags": []
   },
   "source": [
    "* **Independent Variable**"
   ]
  },
  {
   "cell_type": "markdown",
   "id": "a4fb29ed",
   "metadata": {
    "papermill": {
     "duration": 0.024766,
     "end_time": "2022-10-30T14:40:16.973692",
     "exception": false,
     "start_time": "2022-10-30T14:40:16.948926",
     "status": "completed"
    },
    "tags": []
   },
   "source": [
    "*HomePlanet, CryoSleep, Destination, VIP*"
   ]
  },
  {
   "cell_type": "code",
   "execution_count": 6,
   "id": "bb633237",
   "metadata": {
    "execution": {
     "iopub.execute_input": "2022-10-30T14:40:17.026569Z",
     "iopub.status.busy": "2022-10-30T14:40:17.026136Z",
     "iopub.status.idle": "2022-10-30T14:40:17.629780Z",
     "shell.execute_reply": "2022-10-30T14:40:17.628979Z"
    },
    "papermill": {
     "duration": 0.632546,
     "end_time": "2022-10-30T14:40:17.631885",
     "exception": false,
     "start_time": "2022-10-30T14:40:16.999339",
     "status": "completed"
    },
    "tags": []
   },
   "outputs": [
    {
     "data": {
      "image/png": "[encoded data removed]",
      "text/plain": [
       "<Figure size 1008x1080 with 4 Axes>"
      ]
     },
     "metadata": {},
     "output_type": "display_data"
    }
   ],
   "source": [
    "# Visualize independent categorical features\n",
    "plt.figure(figsize = (14, 15)) \n",
    "\n",
    "# Bar plot\n",
    "plt.subplot(221).axes.get_yaxis().set_ticks([])\n",
    "# train_df['HomePlanet'].value_counts(normalize = True).plot.bar(title = 'HomePlanet')\n",
    "ax = train_df['HomePlanet'].value_counts(normalize = True).plot.bar(title = 'HomePlanet', rot=0)\n",
    "for p in ax.patches:\n",
    "    width = p.get_width()\n",
    "    height = p.get_height()\n",
    "    x, y = p.get_xy() \n",
    "    ax.annotate(f'{height:.02%}', (x + width/2, y + height*1.01), ha='center')\n",
    "\n",
    "plt.subplot(222).axes.get_yaxis().set_ticks([])\n",
    "# train_df['CryoSleep'].value_counts(normalize = True).plot.bar(title = 'CryoSleep')\n",
    "ax = train_df['CryoSleep'].value_counts(normalize = True).plot.bar(title = 'CryoSleep', rot=0)\n",
    "for p in ax.patches:\n",
    "    width = p.get_width()\n",
    "    height = p.get_height()\n",
    "    x, y = p.get_xy() \n",
    "    ax.annotate(f'{height:.02%}', (x + width/2, y + height*1.01), ha='center')\n",
    "\n",
    "plt.subplot(223).axes.get_yaxis().set_ticks([])\n",
    "# train_df['Destination'].value_counts(normalize = True).plot.bar(title = 'Destination')\n",
    "ax = train_df['Destination'].value_counts(normalize = True).plot.bar(title = 'Destination', rot=0)\n",
    "for p in ax.patches:\n",
    "    width = p.get_width()\n",
    "    height = p.get_height()\n",
    "    x, y = p.get_xy() \n",
    "    ax.annotate(f'{height:.02%}', (x + width/2, y + height*1.02), ha='center')\n",
    "\n",
    "plt.subplot(224).axes.get_yaxis().set_ticks([])\n",
    "# train_df['VIP'].value_counts(normalize = True).plot.bar(title = 'VIP')\n",
    "ax = train_df['VIP'].value_counts(normalize = True).plot.bar(title = 'VIP', rot=0)\n",
    "for p in ax.patches:\n",
    "    width = p.get_width()\n",
    "    height = p.get_height()\n",
    "    x, y = p.get_xy() \n",
    "    ax.annotate(f'{height:.02%}', (x + width/2, y + height*1.02), ha='center')"
   ]
  },
  {
   "cell_type": "markdown",
   "id": "22cae98f",
   "metadata": {
    "papermill": {
     "duration": 0.025092,
     "end_time": "2022-10-30T14:40:17.682540",
     "exception": false,
     "start_time": "2022-10-30T14:40:17.657448",
     "status": "completed"
    },
    "tags": []
   },
   "source": [
    ">จากกราฟจะเห็นได้ว่า\n",
    "> * HomePlanet - ผู้โดยสารจะมาจาก Earth มากที่สุด ประมาณ 54.19% ของผู้โดยสารทั้งหมด, ผู้โดยสารจะมาจาก Europa เป็นอันดับสอง ประมาณ 25.09% ของผู้โดยสารทั้งหมดและผู้โดยสารจะมาจาก Mars น้อยที่สุด ประมาณ 20.71% ของผู้โดยสารทั้งหมด\n",
    "> * CryoSleep - ผู้โดยสารที่ใช้งาน CryoSleep มีประมาณ 64.17% ของผู้โดยสารทั้งหมด และผู้โดยสารที่ไม่ได้ใช้งาน CryoSleep มีประมาณ 35.83% ของผู้โดยสารทั้งหมด\n",
    "> * Destination - ผู้โดยสารส่วนใหญ่มีจุดหมายปลายทางอยู่ที่ TRAPPIST-1e ประมาณ 60.50% ของผู้โดยสารทั้งหมด, ผู้โดยสารที่มีจุดหมายปลายทางอยู่ที่ 55 Cancri e ประมาณ 21.15% ของผู้โดยสารทั้งหมด และผู้โดยสารที่มีจุดหมายปลายทางอยู่ที่ PSO J318.5-22 ประมาณ 9.35% ของผู้โดยสารทั้งหมด\n",
    "> * VIP - ผู้โดยสารส่วนใหญ่ที่ไม่ได้เป็น VIP ประมาณ 97.66% ของผู้โดยสารทั้งหมด และผู้โดยสารที่เป็น VIP มีเพียง 2.34% ของผู้โดยสารทั้งหมด\n"
   ]
  },
  {
   "cell_type": "markdown",
   "id": "33b67966",
   "metadata": {
    "papermill": {
     "duration": 0.025042,
     "end_time": "2022-10-30T14:40:17.733088",
     "exception": false,
     "start_time": "2022-10-30T14:40:17.708046",
     "status": "completed"
    },
    "tags": []
   },
   "source": [
    "*Cabin*\n",
    "\n",
    "ทำการแบ่ง column Cabin เป็น CabinDeck, CabinNo และ CabinSide เพื่อสำรวจที่นั่งของผู้โดยสาร"
   ]
  },
  {
   "cell_type": "code",
   "execution_count": 7,
   "id": "6d7ee075",
   "metadata": {
    "execution": {
     "iopub.execute_input": "2022-10-30T14:40:17.786244Z",
     "iopub.status.busy": "2022-10-30T14:40:17.785384Z",
     "iopub.status.idle": "2022-10-30T14:40:18.170312Z",
     "shell.execute_reply": "2022-10-30T14:40:18.168968Z"
    },
    "papermill": {
     "duration": 0.414339,
     "end_time": "2022-10-30T14:40:18.172751",
     "exception": false,
     "start_time": "2022-10-30T14:40:17.758412",
     "status": "completed"
    },
    "tags": []
   },
   "outputs": [
    {
     "data": {
      "image/png": "[encoded data removed]",
      "text/plain": [
       "<Figure size 1008x1080 with 2 Axes>"
      ]
     },
     "metadata": {},
     "output_type": "display_data"
    }
   ],
   "source": [
    "# Extract CabinDeck, CabinNo. and CabinSide feature from Cabin\n",
    "train_df1 = train_df.copy()\n",
    "train_df1[[\"CabinDeck\", \"CabinNo.\", \"CabinSide\"]] = train_df1[\"Cabin\"].str.split('/', expand = True)\n",
    "\n",
    "# Visualize cabin feature\n",
    "plt.figure(figsize = (14, 15)) \n",
    "plt.subplot(221).axes.get_yaxis().set_ticks([])\n",
    "ax = train_df1['CabinDeck'].value_counts(normalize = True).plot.bar(title = 'CabinDeck', rot=0)\n",
    "for p in ax.patches:\n",
    "    width = p.get_width()\n",
    "    height = p.get_height()\n",
    "    x, y = p.get_xy() \n",
    "    ax.annotate(f'{height:.02%}', (x + width/2, y + height*1.02), ha='center')\n",
    "\n",
    "plt.subplot(222).axes.get_yaxis().set_ticks([])\n",
    "ax = train_df1['CabinSide'].value_counts(normalize = True).plot.bar(title = 'CabinSide', rot=0)\n",
    "for p in ax.patches:\n",
    "    width = p.get_width()\n",
    "    height = p.get_height()\n",
    "    x, y = p.get_xy() \n",
    "    ax.annotate(f'{height:.02%}', (x + width/2, y + height*1.02), ha='center')"
   ]
  },
  {
   "cell_type": "markdown",
   "id": "44a90a6e",
   "metadata": {
    "papermill": {
     "duration": 0.02527,
     "end_time": "2022-10-30T14:40:18.224122",
     "exception": false,
     "start_time": "2022-10-30T14:40:18.198852",
     "status": "completed"
    },
    "tags": []
   },
   "source": [
    "> จากกราฟจะเห็นว่า\n",
    ">    * CabinDeck - ผู้โดยสารประมาณ 60% ส่วนใหญ่จะอยู่ที่ชั้น F และ G โดยคิดเป็น 32.89% และ 30.13% ตามลำดับ\n",
    ">    * CabinSide - ผู้โดยสารที่นั่งฝั่ง Starboard และ Port มีสัดส่วนไม่แตกต่างกันมากนัก โดยคิดเป็น 50.48% และ 49.52% ตามลำดับ\n"
   ]
  },
  {
   "cell_type": "markdown",
   "id": "560d47bb",
   "metadata": {
    "papermill": {
     "duration": 0.025237,
     "end_time": "2022-10-30T14:40:18.275122",
     "exception": false,
     "start_time": "2022-10-30T14:40:18.249885",
     "status": "completed"
    },
    "tags": []
   },
   "source": [
    "*Age*\n",
    "\n",
    "ดูการกระจายตัวของ Age "
   ]
  },
  {
   "cell_type": "code",
   "execution_count": 8,
   "id": "295f194d",
   "metadata": {
    "execution": {
     "iopub.execute_input": "2022-10-30T14:40:18.329601Z",
     "iopub.status.busy": "2022-10-30T14:40:18.328384Z",
     "iopub.status.idle": "2022-10-30T14:40:18.883170Z",
     "shell.execute_reply": "2022-10-30T14:40:18.881888Z"
    },
    "papermill": {
     "duration": 0.584194,
     "end_time": "2022-10-30T14:40:18.885598",
     "exception": false,
     "start_time": "2022-10-30T14:40:18.301404",
     "status": "completed"
    },
    "tags": []
   },
   "outputs": [
    {
     "data": {
      "text/plain": [
       "Text(0.5, 1.0, 'Age distribution')"
      ]
     },
     "execution_count": 8,
     "metadata": {},
     "output_type": "execute_result"
    },
    {
     "data": {
      "image/png": "[encoded data removed]",
      "text/plain": [
       "<Figure size 1152x360 with 2 Axes>"
      ]
     },
     "metadata": {},
     "output_type": "display_data"
    }
   ],
   "source": [
    "# Visualize Age variable\n",
    "plt.figure(1)\n",
    "plt.subplot(121)\n",
    "sns.distplot(train_df['Age']);\n",
    "#Box plot\n",
    "plt.subplot(122)\n",
    "train_df['Age'].plot.box(figsize = (16, 5));\n",
    "plt.title('Age distribution')\n"
   ]
  },
  {
   "cell_type": "markdown",
   "id": "9fa9ef7a",
   "metadata": {
    "papermill": {
     "duration": 0.026267,
     "end_time": "2022-10-30T14:40:18.938794",
     "exception": false,
     "start_time": "2022-10-30T14:40:18.912527",
     "status": "completed"
    },
    "tags": []
   },
   "source": [
    ">     จากกราฟจะเห็นว่ามี Outliers อยู่ใน Feature นี้ และจาก Box plot จะเห็นว่า Median    (ค่ามัธยฐาน) จะอยู่ในช่วง 20 - 30 ปี\n"
   ]
  },
  {
   "cell_type": "markdown",
   "id": "5dddbb6b",
   "metadata": {
    "papermill": {
     "duration": 0.026273,
     "end_time": "2022-10-30T14:40:18.991945",
     "exception": false,
     "start_time": "2022-10-30T14:40:18.965672",
     "status": "completed"
    },
    "tags": []
   },
   "source": [
    "*RoomService*"
   ]
  },
  {
   "cell_type": "code",
   "execution_count": 9,
   "id": "bdd727ba",
   "metadata": {
    "execution": {
     "iopub.execute_input": "2022-10-30T14:40:19.046866Z",
     "iopub.status.busy": "2022-10-30T14:40:19.046413Z",
     "iopub.status.idle": "2022-10-30T14:40:19.548404Z",
     "shell.execute_reply": "2022-10-30T14:40:19.547063Z"
    },
    "papermill": {
     "duration": 0.532358,
     "end_time": "2022-10-30T14:40:19.550867",
     "exception": false,
     "start_time": "2022-10-30T14:40:19.018509",
     "status": "completed"
    },
    "tags": []
   },
   "outputs": [
    {
     "data": {
      "image/png": "[encoded data removed]",
      "text/plain": [
       "<Figure size 1152x360 with 2 Axes>"
      ]
     },
     "metadata": {},
     "output_type": "display_data"
    }
   ],
   "source": [
    "# Visualize RoomService variable\n",
    "plt.figure(1)\n",
    "plt.subplot(121)\n",
    "sns.distplot(train_df['RoomService']);\n",
    "plt.subplot(122)\n",
    "train_df['RoomService'].plot.box(figsize = (16, 5));\n",
    "plt.ylim([-100, 1000])\n",
    "plt.show()"
   ]
  },
  {
   "cell_type": "markdown",
   "id": "d9809078",
   "metadata": {
    "papermill": {
     "duration": 0.026389,
     "end_time": "2022-10-30T14:40:19.604479",
     "exception": false,
     "start_time": "2022-10-30T14:40:19.578090",
     "status": "completed"
    },
    "tags": []
   },
   "source": [
    "*Spa*"
   ]
  },
  {
   "cell_type": "code",
   "execution_count": 10,
   "id": "a92210c4",
   "metadata": {
    "execution": {
     "iopub.execute_input": "2022-10-30T14:40:19.660417Z",
     "iopub.status.busy": "2022-10-30T14:40:19.659989Z",
     "iopub.status.idle": "2022-10-30T14:40:20.263117Z",
     "shell.execute_reply": "2022-10-30T14:40:20.262352Z"
    },
    "papermill": {
     "duration": 0.633352,
     "end_time": "2022-10-30T14:40:20.265167",
     "exception": false,
     "start_time": "2022-10-30T14:40:19.631815",
     "status": "completed"
    },
    "tags": []
   },
   "outputs": [
    {
     "data": {
      "image/png": "[encoded data removed]",
      "text/plain": [
       "<Figure size 1152x360 with 2 Axes>"
      ]
     },
     "metadata": {},
     "output_type": "display_data"
    }
   ],
   "source": [
    "# Visualize Spa variable\n",
    "plt.figure(1)\n",
    "plt.subplot(121)\n",
    "sns.distplot(train_df['Spa']);\n",
    "plt.subplot(122)\n",
    "train_df['Spa'].plot.box(figsize = (16, 5));\n",
    "plt.ylim([-100, 1000])\n",
    "plt.show()"
   ]
  },
  {
   "cell_type": "markdown",
   "id": "2b40cce1",
   "metadata": {
    "papermill": {
     "duration": 0.027043,
     "end_time": "2022-10-30T14:40:20.319974",
     "exception": false,
     "start_time": "2022-10-30T14:40:20.292931",
     "status": "completed"
    },
    "tags": []
   },
   "source": [
    "*VRDeck*"
   ]
  },
  {
   "cell_type": "code",
   "execution_count": 11,
   "id": "80a7c3e1",
   "metadata": {
    "execution": {
     "iopub.execute_input": "2022-10-30T14:40:20.377267Z",
     "iopub.status.busy": "2022-10-30T14:40:20.376050Z",
     "iopub.status.idle": "2022-10-30T14:40:20.862216Z",
     "shell.execute_reply": "2022-10-30T14:40:20.860910Z"
    },
    "papermill": {
     "duration": 0.517773,
     "end_time": "2022-10-30T14:40:20.865052",
     "exception": false,
     "start_time": "2022-10-30T14:40:20.347279",
     "status": "completed"
    },
    "tags": []
   },
   "outputs": [
    {
     "data": {
      "image/png": "[encoded data removed]",
      "text/plain": [
       "<Figure size 1152x360 with 2 Axes>"
      ]
     },
     "metadata": {},
     "output_type": "display_data"
    }
   ],
   "source": [
    "# Visualize VRDeck variable\n",
    "plt.figure(1)\n",
    "plt.subplot(121)\n",
    "sns.distplot(train_df['VRDeck']);\n",
    "plt.subplot(122)\n",
    "train_df['VRDeck'].plot.box(figsize = (16, 5));\n",
    "plt.ylim([-100, 1000])\n",
    "plt.show()"
   ]
  },
  {
   "cell_type": "markdown",
   "id": "651ddb78",
   "metadata": {
    "papermill": {
     "duration": 0.027553,
     "end_time": "2022-10-30T14:40:20.920719",
     "exception": false,
     "start_time": "2022-10-30T14:40:20.893166",
     "status": "completed"
    },
    "tags": []
   },
   "source": [
    "*FoodCourt*"
   ]
  },
  {
   "cell_type": "code",
   "execution_count": 12,
   "id": "26627003",
   "metadata": {
    "execution": {
     "iopub.execute_input": "2022-10-30T14:40:20.978047Z",
     "iopub.status.busy": "2022-10-30T14:40:20.977639Z",
     "iopub.status.idle": "2022-10-30T14:40:21.469511Z",
     "shell.execute_reply": "2022-10-30T14:40:21.468373Z"
    },
    "papermill": {
     "duration": 0.523681,
     "end_time": "2022-10-30T14:40:21.472135",
     "exception": false,
     "start_time": "2022-10-30T14:40:20.948454",
     "status": "completed"
    },
    "tags": []
   },
   "outputs": [
    {
     "data": {
      "image/png": "[encoded data removed]",
      "text/plain": [
       "<Figure size 1152x360 with 2 Axes>"
      ]
     },
     "metadata": {},
     "output_type": "display_data"
    }
   ],
   "source": [
    "# Visualize FoodCourt variable\n",
    "plt.figure(1)\n",
    "plt.subplot(121)\n",
    "sns.distplot(train_df['FoodCourt']);\n",
    "plt.subplot(122)\n",
    "train_df['FoodCourt'].plot.box(figsize = (16, 5));\n",
    "plt.ylim([-100, 1000])\n",
    "plt.show()"
   ]
  },
  {
   "cell_type": "markdown",
   "id": "41d0adfd",
   "metadata": {
    "papermill": {
     "duration": 0.028079,
     "end_time": "2022-10-30T14:40:21.529405",
     "exception": false,
     "start_time": "2022-10-30T14:40:21.501326",
     "status": "completed"
    },
    "tags": []
   },
   "source": [
    "*ShoppingMall*"
   ]
  },
  {
   "cell_type": "code",
   "execution_count": 13,
   "id": "6d5eb364",
   "metadata": {
    "execution": {
     "iopub.execute_input": "2022-10-30T14:40:21.588742Z",
     "iopub.status.busy": "2022-10-30T14:40:21.588309Z",
     "iopub.status.idle": "2022-10-30T14:40:22.065325Z",
     "shell.execute_reply": "2022-10-30T14:40:22.064208Z"
    },
    "papermill": {
     "duration": 0.509663,
     "end_time": "2022-10-30T14:40:22.067538",
     "exception": false,
     "start_time": "2022-10-30T14:40:21.557875",
     "status": "completed"
    },
    "tags": []
   },
   "outputs": [
    {
     "data": {
      "image/png": "[encoded data removed]",
      "text/plain": [
       "<Figure size 1152x360 with 2 Axes>"
      ]
     },
     "metadata": {},
     "output_type": "display_data"
    }
   ],
   "source": [
    "# Visualize ShoppingMall variable\n",
    "plt.figure(1)\n",
    "plt.subplot(121)\n",
    "sns.distplot(train_df['ShoppingMall']);\n",
    "plt.subplot(122)\n",
    "train_df['ShoppingMall'].plot.box(figsize = (16, 5));\n",
    "plt.ylim([-100, 1000])\n",
    "plt.show()"
   ]
  },
  {
   "cell_type": "markdown",
   "id": "d6eb2742",
   "metadata": {
    "papermill": {
     "duration": 0.028275,
     "end_time": "2022-10-30T14:40:22.124682",
     "exception": false,
     "start_time": "2022-10-30T14:40:22.096407",
     "status": "completed"
    },
    "tags": []
   },
   "source": [
    "> RoomService, Spa, VRDeck, FoodCourt และ ShoppingMall มีการกระจายที่ใกล้เคียงกัน โดยจะเห็นว่าผู้โดยสารส่วนใหญ่แทบจะไม่มีการใช้จ่ายจากการใช้งานสิ่งอำนวยความสะดวกบนยานเลย "
   ]
  },
  {
   "cell_type": "markdown",
   "id": "2fda58ab",
   "metadata": {
    "papermill": {
     "duration": 0.028518,
     "end_time": "2022-10-30T14:40:22.182040",
     "exception": false,
     "start_time": "2022-10-30T14:40:22.153522",
     "status": "completed"
    },
    "tags": []
   },
   "source": [
    "* **Target Variable**\n",
    "    \n",
    "    ทำการตรวจสอบจำนวนเปอร์เซ็นต์ของผู้โดยสารที่ถูกย้ายไปยังมิติอื่น เพื่อให้แน่ใจว่าชุดข้อมูลจะไม่มีปัญหาเรื่อง Imbalance Class หรือการที่มีคลาสใดคลาสหนึ่งมากจนเกินไป ซึ่งจะส่งผลทำให้ความแม่นยำตอนที่เราจะทำนายมีค่าคลาดเคลื่อนไป"
   ]
  },
  {
   "cell_type": "markdown",
   "id": "ea4e4d7d",
   "metadata": {
    "papermill": {
     "duration": 0.028289,
     "end_time": "2022-10-30T14:40:22.238998",
     "exception": false,
     "start_time": "2022-10-30T14:40:22.210709",
     "status": "completed"
    },
    "tags": []
   },
   "source": [
    "*Transported*"
   ]
  },
  {
   "cell_type": "code",
   "execution_count": 14,
   "id": "a47a0765",
   "metadata": {
    "execution": {
     "iopub.execute_input": "2022-10-30T14:40:22.298980Z",
     "iopub.status.busy": "2022-10-30T14:40:22.297761Z",
     "iopub.status.idle": "2022-10-30T14:40:22.430195Z",
     "shell.execute_reply": "2022-10-30T14:40:22.428756Z"
    },
    "papermill": {
     "duration": 0.167112,
     "end_time": "2022-10-30T14:40:22.434948",
     "exception": false,
     "start_time": "2022-10-30T14:40:22.267836",
     "status": "completed"
    },
    "tags": []
   },
   "outputs": [
    {
     "data": {
      "text/plain": [
       "Text(0.5, 1.0, 'Target distribution')"
      ]
     },
     "execution_count": 14,
     "metadata": {},
     "output_type": "execute_result"
    },
    {
     "data": {
      "image/png": "[encoded data removed]",
      "text/plain": [
       "<Figure size 360x360 with 1 Axes>"
      ]
     },
     "metadata": {},
     "output_type": "display_data"
    }
   ],
   "source": [
    "# Visualize Transported variable\n",
    "plt.figure(figsize=(5,5))\n",
    "train_df['Transported'].value_counts().plot.pie(explode=[0.1,0.1],autopct='%1.1f%%',textprops={'fontsize':12}).set_title(\"Target distribution\")\n"
   ]
  },
  {
   "cell_type": "markdown",
   "id": "97ce1d52",
   "metadata": {
    "papermill": {
     "duration": 0.029248,
     "end_time": "2022-10-30T14:40:22.535109",
     "exception": false,
     "start_time": "2022-10-30T14:40:22.505861",
     "status": "completed"
    },
    "tags": []
   },
   "source": [
    "**Bivariate Analysis** \n",
    "\n",
    "หาความสัมพันธ์ระหว่างตัวแปรทั้งหมดกับตัวแปรเป้าหมาย (Transported)"
   ]
  },
  {
   "cell_type": "markdown",
   "id": "3db15008",
   "metadata": {
    "papermill": {
     "duration": 0.029158,
     "end_time": "2022-10-30T14:40:22.594217",
     "exception": false,
     "start_time": "2022-10-30T14:40:22.565059",
     "status": "completed"
    },
    "tags": []
   },
   "source": [
    "*Categorical Variable vs Target Variable*"
   ]
  },
  {
   "cell_type": "code",
   "execution_count": 15,
   "id": "f3e3da63",
   "metadata": {
    "execution": {
     "iopub.execute_input": "2022-10-30T14:40:22.656381Z",
     "iopub.status.busy": "2022-10-30T14:40:22.655980Z",
     "iopub.status.idle": "2022-10-30T14:40:23.365024Z",
     "shell.execute_reply": "2022-10-30T14:40:23.363852Z"
    },
    "papermill": {
     "duration": 0.743776,
     "end_time": "2022-10-30T14:40:23.367729",
     "exception": false,
     "start_time": "2022-10-30T14:40:22.623953",
     "status": "completed"
    },
    "tags": []
   },
   "outputs": [
    {
     "data": {
      "image/png": "[encoded data removed]",
      "text/plain": [
       "<Figure size 1008x1080 with 4 Axes>"
      ]
     },
     "metadata": {},
     "output_type": "display_data"
    }
   ],
   "source": [
    "# HomePlanet vs Transported\n",
    "HomePlanet_Transported = train_df1.groupby('HomePlanet').aggregate({'Transported': 'sum',\n",
    "                                                           'PassengerId': 'size'\n",
    "                                                          }).reset_index()\n",
    "\n",
    "HomePlanet_Transported['TransportedPercentage'] = (HomePlanet_Transported['Transported'] / HomePlanet_Transported['PassengerId']) *100\n",
    "# Plot HomePlanet vs Transported\n",
    "plt.figure(figsize = (14, 15))\n",
    "plt.subplot(221)\n",
    "ax = sns.barplot(x = \"HomePlanet\", y = \"TransportedPercentage\", data = HomePlanet_Transported, palette='PuBuGn_r')\n",
    "patches = ax.patches\n",
    "for i in range(len(patches)):\n",
    "   x = patches[i].get_x() + patches[i].get_width()/2\n",
    "   y = patches[i].get_height()+.5\n",
    "   ax.annotate('{:.2f}%'.format(HomePlanet_Transported['TransportedPercentage'][i]), (x, y), ha='center')\n",
    "\n",
    "\n",
    "# CryoSleep vs Transported\n",
    "CryoSleep_Transported = train_df1.groupby('CryoSleep').aggregate({'Transported': 'sum',\n",
    "                                                           'PassengerId': 'size'\n",
    "                                                          }).reset_index()\n",
    "\n",
    "CryoSleep_Transported['TransportedPercentage'] = (CryoSleep_Transported['Transported'] / CryoSleep_Transported['PassengerId'])*100\n",
    "# Plot CryoSleep vs Transported\n",
    "plt.subplot(222)\n",
    "ax = sns.barplot(x = \"CryoSleep\", y = \"TransportedPercentage\", data = CryoSleep_Transported, palette='PuBuGn_r')\n",
    "patches = ax.patches\n",
    "for i in range(len(patches)):\n",
    "   x = patches[i].get_x() + patches[i].get_width()/2\n",
    "   y = patches[i].get_height()+.5\n",
    "   ax.annotate('{:.2f}%'.format(CryoSleep_Transported['TransportedPercentage'][i]), (x, y), ha='center')\n",
    "\n",
    "\n",
    "# Destination vs Transported\n",
    "Destination_Transported = train_df1.groupby('Destination').aggregate({'Transported': 'sum',\n",
    "                                                           'PassengerId': 'size'\n",
    "                                                          }).reset_index()\n",
    "\n",
    "Destination_Transported['TransportedPercentage'] = (Destination_Transported['Transported'] / Destination_Transported['PassengerId'])*100\n",
    "# Plot Destination vs Transported\n",
    "plt.subplot(223)\n",
    "ax = sns.barplot(x = \"Destination\", y = \"TransportedPercentage\", data = Destination_Transported, order = Destination_Transported.sort_values('TransportedPercentage', ascending = False).Destination, palette='PuBuGn_r')\n",
    "patches = ax.patches\n",
    "for i in range(len(patches)):\n",
    "   x = patches[i].get_x() + patches[i].get_width()/2\n",
    "   y = patches[i].get_height()+.5\n",
    "   ax.annotate('{:.2f}%'.format(Destination_Transported['TransportedPercentage'][i]), (x, y), ha='center')\n",
    "\n",
    "# VIP vs Transported\n",
    "VIP_Transported = train_df1.groupby('VIP').aggregate({'Transported': 'sum',\n",
    "                                                           'PassengerId': 'size'\n",
    "                                                          }).reset_index()\n",
    "\n",
    "VIP_Transported['TransportedPercentage'] = (VIP_Transported['Transported'] / VIP_Transported['PassengerId'])*100\n",
    "# Plot VIP vs Transported\n",
    "plt.subplot(224)\n",
    "ax = sns.barplot(x = \"VIP\", y = \"TransportedPercentage\", data = VIP_Transported, order = VIP_Transported.sort_values('TransportedPercentage', ascending = False).VIP, palette='PuBuGn_r')\n",
    "patches = ax.patches\n",
    "for i in range(len(patches)):\n",
    "   x = patches[i].get_x() + patches[i].get_width()/2\n",
    "   y = patches[i].get_height()+.5\n",
    "   ax.annotate('{:.2f}%'.format(VIP_Transported['TransportedPercentage'][i]), (x, y), ha='center')\n"
   ]
  },
  {
   "cell_type": "markdown",
   "id": "0bbbc798",
   "metadata": {
    "papermill": {
     "duration": 0.029998,
     "end_time": "2022-10-30T14:40:23.428771",
     "exception": false,
     "start_time": "2022-10-30T14:40:23.398773",
     "status": "completed"
    },
    "tags": []
   },
   "source": [
    "> จากกราฟจะเห็นว่า\n",
    ">* HomePlanet vs Transported \n",
    ">  - ผู้โดยสารที่มาจาก Europa จะถูก Transported มากเป็นอันดับแรก โดยมีโอกาสประมาณ 65.88%, ผู้โดยสารที่มาจาก Mars จะมีโอกาสถูก Transported เป็นอันดับที่สอง โดยมีโอกาสประมาณ 52.30% และผู้โดยสารที่มาจาก Earth จะถูก Transported เป็นอันดับสุดท้าย โดยมีโอกาสประมาณ 42.39%\n",
    ">* CryoSleep vs Transported \n",
    ">  - ผู้โดยสารที่อยู่ใน CryoSleep จะถูก Transported มากกว่าผู้โดยสารที่ไม่อยู่ใน CryoSleep โดยมีโอกาสประมาณ 81.76% และผู้โดยสารที่ไม่อยู่ใน CryoSleep มีโอกาสประมาณ 32.89%\n",
    ">* Destination vs Transported \n",
    ">  - ผู้โดยสารที่จะเดินทางไป 55 Cancri e จะมีโอกาสถูก Transported ไปเป็นอันดับแรก โดยมีโอกาสประมาณ 61.00% ผู้โดยสารที่เดินทางไป PSO J318.5-22 จะมีโอกาสถูก Transported ไปเป็นอันดับที่สอง โดยมีโอกาสประมาณ 50.38% และผู้โดยสารที่เดินทางไป TRAPPIST-1e จะมีโอกาสถูก Transported ไปเป็นอันดับสุดท้าย โดยมีโอกาสประมาณ 47.12%\n",
    ">* VIP vs Transported \n",
    ">  - ผู้โดยสารที่ไม่เป็น VIP จะมีโอกาสถูก Transported มากกว่าผู้โดยสารที่เป็น VIP โดยมีโอกาสประมาณ 50.63% และผู้โดยสารที่เป็น VIP มีโอกาสประมาณ 38.19%\n"
   ]
  },
  {
   "cell_type": "code",
   "execution_count": 16,
   "id": "7edfbe82",
   "metadata": {
    "execution": {
     "iopub.execute_input": "2022-10-30T14:40:23.491593Z",
     "iopub.status.busy": "2022-10-30T14:40:23.491198Z",
     "iopub.status.idle": "2022-10-30T14:40:23.949883Z",
     "shell.execute_reply": "2022-10-30T14:40:23.948768Z"
    },
    "papermill": {
     "duration": 0.494237,
     "end_time": "2022-10-30T14:40:23.953385",
     "exception": false,
     "start_time": "2022-10-30T14:40:23.459148",
     "status": "completed"
    },
    "tags": []
   },
   "outputs": [
    {
     "data": {
      "image/png": "[encoded data removed]",
      "text/plain": [
       "<Figure size 1008x1080 with 2 Axes>"
      ]
     },
     "metadata": {},
     "output_type": "display_data"
    }
   ],
   "source": [
    "# CabinDeck vs Transported\n",
    "CabinDeck_Transported = train_df1.groupby('CabinDeck').aggregate({'Transported': 'sum',\n",
    "                                                           'PassengerId': 'size'\n",
    "                                                          }).reset_index()\n",
    "\n",
    "CabinDeck_Transported['TransportedPercentage'] = CabinDeck_Transported['Transported'] / CabinDeck_Transported['PassengerId']*100\n",
    "# Plot CabinDeck vs Transported\n",
    "plt.figure(figsize = (14, 15)) \n",
    "plt.subplot(221)\n",
    "ax = sns.barplot(x = \"CabinDeck\", y = \"TransportedPercentage\", data = CabinDeck_Transported, palette='PuBuGn_r')\n",
    "patches = ax.patches\n",
    "for i in range(len(patches)):\n",
    "   x = patches[i].get_x() + patches[i].get_width()/2\n",
    "   y = patches[i].get_height()+.5\n",
    "   ax.annotate('{:.2f}%'.format(CabinDeck_Transported['TransportedPercentage'][i]), (x, y), ha='center')\n",
    "\n",
    "\n",
    "# CabinSide vs Transported\n",
    "CabinSide_Transported = train_df1.groupby('CabinSide').aggregate({'Transported': 'sum',\n",
    "                                                           'PassengerId': 'size'\n",
    "                                                          }).reset_index()\n",
    "\n",
    "CabinSide_Transported['TransportedPercentage'] = CabinSide_Transported['Transported'] / CabinSide_Transported['PassengerId']*100\n",
    "# Plot CabinSide vs Transported\n",
    "plt.subplot(222)\n",
    "ax = sns.barplot(x = \"CabinSide\", y = \"TransportedPercentage\", data = CabinSide_Transported, palette='PuBuGn_r')\n",
    "patches = ax.patches\n",
    "for i in range(len(patches)):\n",
    "   x = patches[i].get_x() + patches[i].get_width()/2\n",
    "   y = patches[i].get_height()+.5\n",
    "   ax.annotate('{:.2f}%'.format(CabinSide_Transported['TransportedPercentage'][i]), (x, y), ha='center')"
   ]
  },
  {
   "cell_type": "markdown",
   "id": "33f6c9bf",
   "metadata": {
    "papermill": {
     "duration": 0.031139,
     "end_time": "2022-10-30T14:40:24.016671",
     "exception": false,
     "start_time": "2022-10-30T14:40:23.985532",
     "status": "completed"
    },
    "tags": []
   },
   "source": [
    "> จากกราฟจะเห็นว่า\n",
    ">* CabinDeck vs Transported \n",
    ">  - ผู้โดยสารที่อยู่ชั้น B จะมีโอกาสถูก Transported มากที่สุด โดยมีโอกาสประมาณ 73.43%, ผู้โดยสารที่อยู่ชั้น C จะมีโอกาสประมาณ 68.01% ในการถูก Transported, ผู้โดยสารที่อยู่ชั้น G จะมีโอกาสประมาณ 51.62% ในการถูก Transported, ผู้โดยสารที่อยู่ชั้น A จะมีโอกาสประมาณ 49.61% ในการถูก Transported, ผู้โดยสารที่อยู่ชั้น F จะมีโอกาสประมาณ 43.99% ในการถูก Transported, ผู้โดยสารที่อยู่ชั้น D จะมีโอกาสประมาณ 43.31% ในการถูก Transported, ผู้โดยสารที่อยู่ชั้น E จะมีโอกาสประมาณ 35.73% ในการถูก Transported และผู้โดยสารที่อยู่ชั้น T จะมีโอกาสประมาณ 20.00% ในการถูก Transported\n",
    ">* CabinSide vs Transported \n",
    ">  - ผู้โดยสารที่อยู่ฝั่ง Starboard จะมีโอกาสถูก Transported มากกว่าผู้โดยสารที่อยู่ฝั่ง Port โดยฝั่ง Starboard มีโอกาสถูก Transported ประมาณ 55.50% และฝั่ง Port มีโอกาสถูก Transported ประมาณ 45.13%"
   ]
  },
  {
   "cell_type": "markdown",
   "id": "7fb0a03e",
   "metadata": {
    "papermill": {
     "duration": 0.031249,
     "end_time": "2022-10-30T14:40:24.078994",
     "exception": false,
     "start_time": "2022-10-30T14:40:24.047745",
     "status": "completed"
    },
    "tags": []
   },
   "source": [
    "*นำ ‘PassengerId’ มาทำการแยกข้อมูล แล้วนำไปจัดไปเก็บไว้ใน Feature ชื่อ ‘Group’ จากนั้นทำการจัดกลุ่ม ‘Group’ กับ ‘PassengerId’ ที่ผ่านการรวมกลุ่มแล้ว แล้วนำมาเก็บไว้ใน ‘NumInGroup’ จากนั้นเปลี่ยนชื่อ ‘PassengerId’ เป็น ‘Group_size’*"
   ]
  },
  {
   "cell_type": "code",
   "execution_count": 17,
   "id": "f4bc2e64",
   "metadata": {
    "execution": {
     "iopub.execute_input": "2022-10-30T14:40:24.143156Z",
     "iopub.status.busy": "2022-10-30T14:40:24.142742Z",
     "iopub.status.idle": "2022-10-30T14:40:24.189457Z",
     "shell.execute_reply": "2022-10-30T14:40:24.188215Z"
    },
    "papermill": {
     "duration": 0.082056,
     "end_time": "2022-10-30T14:40:24.192249",
     "exception": false,
     "start_time": "2022-10-30T14:40:24.110193",
     "status": "completed"
    },
    "tags": []
   },
   "outputs": [],
   "source": [
    "# Extract Group column from PassengerId column\n",
    "train_df1[\"Group\"] = train_df1[\"PassengerId\"].str.split('_', expand = True)[0]\n",
    "# Create dataframe NumGroup that contains the PassengerGroup and the number of passengers in the group \n",
    "NumInGroup = train_df1.groupby('Group').aggregate({'PassengerId': 'size'}).reset_index()\n",
    "NumInGroup = NumInGroup.rename(columns = {\"PassengerId\": \"Group_size\"})\n",
    "train_df1 = train_df1.merge(NumInGroup[[\"Group\", \"Group_size\"]], how = 'left', on = ['Group'])"
   ]
  },
  {
   "cell_type": "code",
   "execution_count": 18,
   "id": "6368a734",
   "metadata": {
    "execution": {
     "iopub.execute_input": "2022-10-30T14:40:24.257017Z",
     "iopub.status.busy": "2022-10-30T14:40:24.256320Z",
     "iopub.status.idle": "2022-10-30T14:40:24.568951Z",
     "shell.execute_reply": "2022-10-30T14:40:24.568143Z"
    },
    "papermill": {
     "duration": 0.347973,
     "end_time": "2022-10-30T14:40:24.571123",
     "exception": false,
     "start_time": "2022-10-30T14:40:24.223150",
     "status": "completed"
    },
    "tags": []
   },
   "outputs": [
    {
     "data": {
      "image/png": "[encoded data removed]",
      "text/plain": [
       "<Figure size 432x288 with 1 Axes>"
      ]
     },
     "metadata": {},
     "output_type": "display_data"
    }
   ],
   "source": [
    "# Group_size vs transported\n",
    "Groupsize_Transported = train_df1.groupby('Group_size').aggregate({'Transported': 'sum',\n",
    "                                                           'PassengerId': 'size'\n",
    "                                                          }).reset_index()\n",
    "\n",
    "Groupsize_Transported['TransportedPercentage'] = Groupsize_Transported['Transported'] / Groupsize_Transported['PassengerId']*100\n",
    "\n",
    "# Plot Group_size vs transported\n",
    "ax = sns.barplot(x = \"Group_size\", y = \"TransportedPercentage\", data = Groupsize_Transported, palette='PuBuGn_r')\n",
    "patches = ax.patches\n",
    "for i in range(len(patches)):\n",
    "   x = patches[i].get_x() + patches[i].get_width()/2\n",
    "   y = patches[i].get_height()+.5\n",
    "   ax.annotate('{:.2f}%'.format(Groupsize_Transported['TransportedPercentage'][i]), (x, y), ha='center')"
   ]
  },
  {
   "cell_type": "markdown",
   "id": "d8aa5342",
   "metadata": {
    "papermill": {
     "duration": 0.03167,
     "end_time": "2022-10-30T14:40:24.634506",
     "exception": false,
     "start_time": "2022-10-30T14:40:24.602836",
     "status": "completed"
    },
    "tags": []
   },
   "source": [
    "> จากกราฟจะเห็นว่า กลุ่มผู้โดยสารที่มาด้วยกัน 4 คนจะมีโอกาสถูก Transported มากเป็นอันดับแรก โดยมีโอกาสประมาณ 64.08%, กลุ่มผู้โดยสารที่มาด้วยกัน 6 คนจะมีโอกาสถูก Transported มากเป็นอันดับสอง โดยมีโอกาสประมาณ 61.49%, กลุ่มผู้โดยสารที่มาด้วยกัน 3 คนจะมีโอกาสถูก Transported มากเป็นอันดับสาม โดยมีโอกาสประมาณ 59.31%, กลุ่มผู้โดยสารที่มาด้วยกัน 5 คนจะมีโอกาสถูก Transported มากเป็นอันดับสี่ โดยมีโอกาสประมาณ 59.25%, กลุ่มผู้โดยสารที่มาด้วยกัน 7 คนจะมีโอกาสถูก Transported มากเป็นอันดับห้า โดยมีโอกาสประมาณ 54.11%, กลุ่มผู้โดยสารที่มาด้วยกัน 2 คนจะมีโอกาสถูก Transported มากเป็นอันดับหก โดยมีโอกาสประมาณ 53.80%, ผู้โดยสารที่มาคนเดียวจะมีโอกาสถูก Transported มากเป็นอันดับเจ็ด โดยมีโอกาสประมาณ 45.24% และกลุ่มผู้โดยสารที่มาด้วยกัน 8 คนจะมีโอกาสถูก Transported มากเป็นอันดับสุดท้าย โดยมีโอกาสประมาณ 39.42%"
   ]
  },
  {
   "cell_type": "markdown",
   "id": "dc7ec2c9",
   "metadata": {
    "papermill": {
     "duration": 0.030566,
     "end_time": "2022-10-30T14:40:24.696940",
     "exception": false,
     "start_time": "2022-10-30T14:40:24.666374",
     "status": "completed"
    },
    "tags": []
   },
   "source": [
    "*ต่อไปจะเป็นการสร้าง Feature ใหม่ ชื่อ ‘ItSolo’ ซึ่งแบ่งได้เป็น Group และ Solo*"
   ]
  },
  {
   "cell_type": "code",
   "execution_count": 19,
   "id": "d83e2a7f",
   "metadata": {
    "execution": {
     "iopub.execute_input": "2022-10-30T14:40:24.760858Z",
     "iopub.status.busy": "2022-10-30T14:40:24.760197Z",
     "iopub.status.idle": "2022-10-30T14:40:24.989037Z",
     "shell.execute_reply": "2022-10-30T14:40:24.987906Z"
    },
    "papermill": {
     "duration": 0.263631,
     "end_time": "2022-10-30T14:40:24.991499",
     "exception": false,
     "start_time": "2022-10-30T14:40:24.727868",
     "status": "completed"
    },
    "tags": []
   },
   "outputs": [
    {
     "data": {
      "image/png": "[encoded data removed]",
      "text/plain": [
       "<Figure size 432x288 with 1 Axes>"
      ]
     },
     "metadata": {},
     "output_type": "display_data"
    }
   ],
   "source": [
    "# New feature - ItSolo \n",
    "NumInGroup[\"ItSolo\"] = NumInGroup[\"Group_size\"].apply(lambda x: \"Group\" if x > 1 else \"Solo\")\n",
    "train_df1 = train_df1.merge(NumInGroup[[\"Group\", \"ItSolo\"]], how = 'left', on = ['Group'])\n",
    "\n",
    "# ItSolo vs transported\n",
    "Solo_Transported = train_df1.groupby('ItSolo').aggregate({'Transported': 'sum',\n",
    "                                                           'PassengerId': 'size'\n",
    "                                                          }).reset_index()\n",
    "\n",
    "# create dataframe Solo_Transported that contains percentage of passengers transported Solo or Group\n",
    "Solo_Transported['TransportedPercentage'] = Solo_Transported['Transported'] / Solo_Transported['PassengerId']*100\n",
    "# Plot ItSolo vs transported\n",
    "ax = sns.barplot(x = \"ItSolo\", y = \"TransportedPercentage\", data = Solo_Transported, palette='PuBuGn_r')\n",
    "patches = ax.patches\n",
    "for i in range(len(patches)):\n",
    "   x = patches[i].get_x() + patches[i].get_width()/2\n",
    "   y = patches[i].get_height()+.5\n",
    "   ax.annotate('{:.2f}%'.format(Solo_Transported['TransportedPercentage'][i]), (x, y), ha='center')"
   ]
  },
  {
   "cell_type": "markdown",
   "id": "231d147c",
   "metadata": {
    "papermill": {
     "duration": 0.031057,
     "end_time": "2022-10-30T14:40:25.054398",
     "exception": false,
     "start_time": "2022-10-30T14:40:25.023341",
     "status": "completed"
    },
    "tags": []
   },
   "source": [
    "> จากกราฟจะเห็นว่า ผู้โดยสารที่มาเป็นกลุ่มจะถูก Transported มากกว่าผู้โดยสารที่มาคนเดียว โดยมีโอกาสประมาณ 56.69% และผู้โดยสารที่มาคนเดียวมีโอกาสประมาณ 45.24%"
   ]
  },
  {
   "cell_type": "markdown",
   "id": "90339efe",
   "metadata": {
    "papermill": {
     "duration": 0.03119,
     "end_time": "2022-10-30T14:40:25.117188",
     "exception": false,
     "start_time": "2022-10-30T14:40:25.085998",
     "status": "completed"
    },
    "tags": []
   },
   "source": [
    "*นำ ‘Name’ มาทำการแยกข้อมูล แล้วนำไปจัดไปเก็บไว้ใน Feature ชื่อ ‘FamilyName’ จากนั้นสร้าง Feature ‘NumRelatives’ ซึ่งมีการจับกลุ่ม ‘FamilyName’ กับ ‘PassengerId’ แล้วทำการนับจำนวนทั้งหมด หลังจากนั้นจะทำการเปลี่ยนชื่อ columns จาก ‘PassengerId’ เป็น ‘NumRelatives’ และสร้าง Feature ชื่อ ‘FamilySize’ โดยแบ่งข้อมูลออกเป็น 4 ส่วน ซึ่งได้แก่จำนวนสมาชิกในครอบครัวในช่วง 0 - 2 คน, 3 - 5 คน, 6 - 10 คน และ 11 - 20 คน*"
   ]
  },
  {
   "cell_type": "code",
   "execution_count": 20,
   "id": "ba81c431",
   "metadata": {
    "execution": {
     "iopub.execute_input": "2022-10-30T14:40:25.181952Z",
     "iopub.status.busy": "2022-10-30T14:40:25.181530Z",
     "iopub.status.idle": "2022-10-30T14:40:25.632154Z",
     "shell.execute_reply": "2022-10-30T14:40:25.631282Z"
    },
    "papermill": {
     "duration": 0.485887,
     "end_time": "2022-10-30T14:40:25.634503",
     "exception": false,
     "start_time": "2022-10-30T14:40:25.148616",
     "status": "completed"
    },
    "tags": []
   },
   "outputs": [
    {
     "data": {
      "image/png": "[encoded data removed]",
      "text/plain": [
       "<Figure size 432x288 with 1 Axes>"
      ]
     },
     "metadata": {},
     "output_type": "display_data"
    }
   ],
   "source": [
    "# Extract FamilyName column from Name column\n",
    "train_df1[\"FamilyName\"] = train_df1[\"Name\"].str.split(' ', expand = True)[1]\n",
    "\n",
    "# Create dataframe -NoRelatives that contains the FamilyName and the number of relatives in a Family\n",
    "NoRelatives = train_df1.groupby('FamilyName')['PassengerId'].count().reset_index()\n",
    "NoRelatives = NoRelatives.rename(columns = {\"PassengerId\": \"NumRelatives\"})\n",
    "\n",
    "train_df1 = train_df1.merge(NoRelatives[[\"FamilyName\", \"NumRelatives\"]], how = 'left', on = ['FamilyName'])\n",
    "\n",
    "train_df1[\"FamilySize\"] = pd.cut(train_df1.NumRelatives, bins = [0, 2, 5, 10, 20], labels = ['<= 2', '3 - 5', '6 - 10', '11 - 20'])\n",
    "\n",
    "# FamilySize vs transported\n",
    "FamilySize_Transported = train_df1.groupby('FamilySize').aggregate({'Transported': 'sum',\n",
    "                                                           'PassengerId': 'size'\n",
    "                                                          }).reset_index()\n",
    "\n",
    "FamilySize_Transported['TransportedPercentage'] = FamilySize_Transported['Transported'] / FamilySize_Transported['PassengerId']*100\n",
    "\n",
    "# Plot FamilySize vs transported\n",
    "ax = sns.barplot(x = \"FamilySize\", y = \"TransportedPercentage\", data = FamilySize_Transported, order = FamilySize_Transported.sort_values('TransportedPercentage', ascending = False).FamilySize, palette='PuBuGn_r')\n",
    "patches = ax.patches\n",
    "for i in range(len(patches)):\n",
    "   x = patches[i].get_x() + patches[i].get_width()/2\n",
    "   y = patches[i].get_height()+.5\n",
    "   ax.annotate('{:.2f}%'.format(FamilySize_Transported['TransportedPercentage'][i]), (x, y), ha='center')"
   ]
  },
  {
   "cell_type": "markdown",
   "id": "cc7bfc02",
   "metadata": {
    "papermill": {
     "duration": 0.036217,
     "end_time": "2022-10-30T14:40:25.702889",
     "exception": false,
     "start_time": "2022-10-30T14:40:25.666672",
     "status": "completed"
    },
    "tags": []
   },
   "source": [
    ">จากกราฟจะเห็นว่า\n",
    ">\n",
    "> จำนวนสมาชิกในครอบครัวน้อยกว่า 3 คน มีโอกาสถูก Transported เป็นอันดับแรก โดยมีโอกาสประมาณ 52.28%, จำนวนสมาชิกในครอบครัวตั้งแต่ 3 - 5 คน มีโอกาสถูก Transported เป็นอันดับสอง โดยมีโอกาสประมาณ 51.53%, จำนวนสมาชิกในครอบครัวตั้งแต่ 6 - 10 คน มีโอกาสถูก Transported เป็นอันดับที่สาม มีโอกาสประมาณ 48.55% และจำนวนสมาชิกในครอบครัวตั้งแต่ 11 - 20 คน มีโอกาสถูก Transported เป็นอันดับสุดท้าย มีโอกาสประมาณ 48.29% \n"
   ]
  },
  {
   "cell_type": "markdown",
   "id": "bba6787f",
   "metadata": {
    "papermill": {
     "duration": 0.031444,
     "end_time": "2022-10-30T14:40:25.767143",
     "exception": false,
     "start_time": "2022-10-30T14:40:25.735699",
     "status": "completed"
    },
    "tags": []
   },
   "source": [
    "*ทำการแบ่งช่วงอายุ โดยแบ่งเป็นช่วง '0 - 4', '5 - 12', '13 - 19', '20 - 40', '41 - 60', '61 - 80'*"
   ]
  },
  {
   "cell_type": "code",
   "execution_count": 21,
   "id": "ca84f36e",
   "metadata": {
    "execution": {
     "iopub.execute_input": "2022-10-30T14:40:25.832777Z",
     "iopub.status.busy": "2022-10-30T14:40:25.832123Z",
     "iopub.status.idle": "2022-10-30T14:40:26.122170Z",
     "shell.execute_reply": "2022-10-30T14:40:26.121317Z"
    },
    "papermill": {
     "duration": 0.325919,
     "end_time": "2022-10-30T14:40:26.124663",
     "exception": false,
     "start_time": "2022-10-30T14:40:25.798744",
     "status": "completed"
    },
    "tags": []
   },
   "outputs": [
    {
     "data": {
      "image/png": "[encoded data removed]",
      "text/plain": [
       "<Figure size 432x288 with 1 Axes>"
      ]
     },
     "metadata": {},
     "output_type": "display_data"
    }
   ],
   "source": [
    "# Extract Age_Group column from Age column\n",
    "train_df1[\"Age_Group\"] = pd.cut(train_df1.Age, bins = [0.0, 4.0, 12.0, 19.0, 40.0, 60.0, 80.0], labels = ['0 - 4', '5 - 12', '13 - 19', '20 - 40', '41 - 60', '61 - 80'])\n",
    "\n",
    "# AgeGroup vs Transported\n",
    "AgeGroup_Transported = train_df1.groupby('Age_Group').aggregate({'Transported': 'sum',\n",
    "                                                           'PassengerId': 'size'\n",
    "                                                          }).reset_index()\n",
    "\n",
    "# create dataframe AgeGroup_Transported that has the Age Group and the percentage transported\n",
    "AgeGroup_Transported['TransportedPercentage'] = AgeGroup_Transported['Transported'] / AgeGroup_Transported['PassengerId']*100\n",
    "\n",
    "# Plot AgeGroup vs transported\n",
    "ax = sns.barplot(x = \"Age_Group\", y = \"TransportedPercentage\", data = AgeGroup_Transported, order = AgeGroup_Transported.sort_values('TransportedPercentage',ascending = False).Age_Group, palette='PuBuGn_r')\n",
    "patches = ax.patches\n",
    "for i in range(len(patches)):\n",
    "   x = patches[i].get_x() + patches[i].get_width()/2\n",
    "   y = patches[i].get_height()+.5\n",
    "   ax.annotate('{:.2f}%'.format(AgeGroup_Transported['TransportedPercentage'][i]), (x, y), ha='center')"
   ]
  },
  {
   "cell_type": "markdown",
   "id": "8802a50f",
   "metadata": {
    "papermill": {
     "duration": 0.032045,
     "end_time": "2022-10-30T14:40:26.189803",
     "exception": false,
     "start_time": "2022-10-30T14:40:26.157758",
     "status": "completed"
    },
    "tags": []
   },
   "source": [
    ">จากกราฟจะเห็นได้ว่า\n",
    ">\n",
    "> ช่วงอายุตั้งแต่ 0 - 4  ปี มีโอกาสถูก Transported เป็นอันดับแรก คือ 74.31%, ช่วงอายุตั้งแต่ 5 - 12 ปี มีโอกาสถูก Transported เป็นอันดับที่สอง คือ 60.59%, ช่วงอายุตั้งแต่   \n",
    "13 - 19 ปี มีโอกาสถูก Transported เป็นอันดับที่สาม คือ 52.29%, ช่วงอายุตั้งแต่ 41 - 60 ปี มีโอกาสถูก Transported เป็นอันดับที่สี่ คือ 46.81%, ช่วงอายุตั้งแต่ 61 - 80 ปี มีโอกาสถูก Transported เป็นอันดับที่ห้า คือ 49.50% และช่วงอายุตั้งแต่ 20 - 40 ปี มีโอกาสถูก Transported เป็นอันดับสุดท้าย คือ 47.27%"
   ]
  },
  {
   "cell_type": "markdown",
   "id": "467a7c29",
   "metadata": {
    "papermill": {
     "duration": 0.032439,
     "end_time": "2022-10-30T14:40:26.254580",
     "exception": false,
     "start_time": "2022-10-30T14:40:26.222141",
     "status": "completed"
    },
    "tags": []
   },
   "source": [
    "*ทำการรวมค่าใช้จ่ายทั้งหมด และเทียบกับช่วงอายุ*"
   ]
  },
  {
   "cell_type": "code",
   "execution_count": 22,
   "id": "a0c94e2c",
   "metadata": {
    "execution": {
     "iopub.execute_input": "2022-10-30T14:40:26.320776Z",
     "iopub.status.busy": "2022-10-30T14:40:26.320391Z",
     "iopub.status.idle": "2022-10-30T14:40:26.628969Z",
     "shell.execute_reply": "2022-10-30T14:40:26.628001Z"
    },
    "papermill": {
     "duration": 0.344481,
     "end_time": "2022-10-30T14:40:26.631417",
     "exception": false,
     "start_time": "2022-10-30T14:40:26.286936",
     "status": "completed"
    },
    "tags": []
   },
   "outputs": [
    {
     "data": {
      "text/plain": [
       "(-800.0, 12000.0)"
      ]
     },
     "execution_count": 22,
     "metadata": {},
     "output_type": "execute_result"
    },
    {
     "data": {
      "image/png": "[encoded data removed]",
      "text/plain": [
       "<Figure size 504x360 with 1 Axes>"
      ]
     },
     "metadata": {},
     "output_type": "display_data"
    }
   ],
   "source": [
    "# Create total spending feature\n",
    "train_df1[\"TotalSpendings\"] = train_df1[\"FoodCourt\"] + \\\n",
    "                                 train_df1[\"ShoppingMall\"] + \\\n",
    "                                 train_df1[\"RoomService\"] + \\\n",
    "                                 train_df1[\"Spa\"] + \\\n",
    "                                 train_df1[\"VRDeck\"]\n",
    "\n",
    "# Plot AgeGroup vs TotalSpendings\n",
    "plt.figure(figsize = (7, 5))\n",
    "sns.boxplot(data = train_df1, x = \"Age_Group\", y = \"TotalSpendings\")\n",
    "plt.ylim([-800, 12000])"
   ]
  },
  {
   "cell_type": "markdown",
   "id": "c2a8e49f",
   "metadata": {
    "papermill": {
     "duration": 0.032945,
     "end_time": "2022-10-30T14:40:26.698703",
     "exception": false,
     "start_time": "2022-10-30T14:40:26.665758",
     "status": "completed"
    },
    "tags": []
   },
   "source": [
    "> จากกราฟจะเห็นได้ว่า ผู้โดยสารที่มีอายุน้อยกว่า 13 ปีจะไม่มีค่าใช้จ่ายและค่าใช้จ่ายจะเพิ่มขึ้นตามอายุของผู้โดยสาร"
   ]
  },
  {
   "cell_type": "code",
   "execution_count": 23,
   "id": "6b1a665b",
   "metadata": {
    "execution": {
     "iopub.execute_input": "2022-10-30T14:40:26.767251Z",
     "iopub.status.busy": "2022-10-30T14:40:26.766847Z",
     "iopub.status.idle": "2022-10-30T14:40:27.219285Z",
     "shell.execute_reply": "2022-10-30T14:40:27.218044Z"
    },
    "papermill": {
     "duration": 0.489505,
     "end_time": "2022-10-30T14:40:27.221934",
     "exception": false,
     "start_time": "2022-10-30T14:40:26.732429",
     "status": "completed"
    },
    "tags": []
   },
   "outputs": [
    {
     "data": {
      "text/plain": [
       "(-800.0, 12000.0)"
      ]
     },
     "execution_count": 23,
     "metadata": {},
     "output_type": "execute_result"
    },
    {
     "data": {
      "image/png": "[encoded data removed]",
      "text/plain": [
       "<Figure size 504x360 with 1 Axes>"
      ]
     },
     "metadata": {},
     "output_type": "display_data"
    },
    {
     "data": {
      "image/png": "[encoded data removed]",
      "text/plain": [
       "<Figure size 504x360 with 1 Axes>"
      ]
     },
     "metadata": {},
     "output_type": "display_data"
    }
   ],
   "source": [
    "# Plot CryoSleep, VIP vs TotalSpendings\n",
    "plt.figure(figsize = (7, 5))\n",
    "sns.boxplot(data = train_df1, x = \"CryoSleep\", y = \"TotalSpendings\")\n",
    "plt.ylim([-900, 14000])\n",
    "\n",
    "plt.figure(figsize = (7, 5))\n",
    "sns.boxplot(data = train_df1, x = \"VIP\", y = \"TotalSpendings\")\n",
    "plt.ylim([-800, 12000])"
   ]
  },
  {
   "cell_type": "markdown",
   "id": "e172c09b",
   "metadata": {
    "papermill": {
     "duration": 0.035194,
     "end_time": "2022-10-30T14:40:27.291424",
     "exception": false,
     "start_time": "2022-10-30T14:40:27.256230",
     "status": "completed"
    },
    "tags": []
   },
   "source": [
    ">จาก Box plot จะเห็นว่า\n",
    ">\n",
    ">* CryoSleep vs TotalSpendings\n",
    ">  * ผู้โดยสารใน CryoSleep จะไม่มีค่าใช้จ่าย\n",
    ">* VIP vs TotalSpendings\n",
    ">  * ผู้โดยสารที่เป็น VIP จะมีค่าใช้จ่ายสูงกว่าผู้โดยสารคนอื่น ๆ\n"
   ]
  },
  {
   "cell_type": "markdown",
   "id": "55b1b003",
   "metadata": {
    "papermill": {
     "duration": 0.033654,
     "end_time": "2022-10-30T14:40:27.358813",
     "exception": false,
     "start_time": "2022-10-30T14:40:27.325159",
     "status": "completed"
    },
    "tags": []
   },
   "source": [
    "# Cleaning and Preprocessing"
   ]
  },
  {
   "cell_type": "code",
   "execution_count": 24,
   "id": "cef9ea36",
   "metadata": {
    "execution": {
     "iopub.execute_input": "2022-10-30T14:40:27.428613Z",
     "iopub.status.busy": "2022-10-30T14:40:27.428228Z",
     "iopub.status.idle": "2022-10-30T14:40:27.451569Z",
     "shell.execute_reply": "2022-10-30T14:40:27.449966Z"
    },
    "papermill": {
     "duration": 0.062064,
     "end_time": "2022-10-30T14:40:27.455085",
     "exception": false,
     "start_time": "2022-10-30T14:40:27.393021",
     "status": "completed"
    },
    "tags": []
   },
   "outputs": [
    {
     "name": "stdout",
     "output_type": "stream",
     "text": [
      "<class 'pandas.core.frame.DataFrame'>\n",
      "Int64Index: 8693 entries, 0 to 8692\n",
      "Data columns (total 25 columns):\n",
      " #   Column          Non-Null Count  Dtype   \n",
      "---  ------          --------------  -----   \n",
      " 0   PassengerId     8693 non-null   object  \n",
      " 1   HomePlanet      8492 non-null   object  \n",
      " 2   CryoSleep       8476 non-null   object  \n",
      " 3   Cabin           8494 non-null   object  \n",
      " 4   Destination     8511 non-null   object  \n",
      " 5   Age             8514 non-null   float64 \n",
      " 6   VIP             8490 non-null   object  \n",
      " 7   RoomService     8512 non-null   float64 \n",
      " 8   FoodCourt       8510 non-null   float64 \n",
      " 9   ShoppingMall    8485 non-null   float64 \n",
      " 10  Spa             8510 non-null   float64 \n",
      " 11  VRDeck          8505 non-null   float64 \n",
      " 12  Name            8493 non-null   object  \n",
      " 13  Transported     8693 non-null   bool    \n",
      " 14  CabinDeck       8494 non-null   object  \n",
      " 15  CabinNo.        8494 non-null   object  \n",
      " 16  CabinSide       8494 non-null   object  \n",
      " 17  Group           8693 non-null   object  \n",
      " 18  Group_size      8693 non-null   int64   \n",
      " 19  ItSolo          8693 non-null   object  \n",
      " 20  FamilyName      8493 non-null   object  \n",
      " 21  NumRelatives    8493 non-null   float64 \n",
      " 22  FamilySize      8493 non-null   category\n",
      " 23  Age_Group       8336 non-null   category\n",
      " 24  TotalSpendings  7785 non-null   float64 \n",
      "dtypes: bool(1), category(2), float64(8), int64(1), object(13)\n",
      "memory usage: 1.8+ MB\n"
     ]
    }
   ],
   "source": [
    "train_df1.info()"
   ]
  },
  {
   "cell_type": "markdown",
   "id": "bb093bc5",
   "metadata": {
    "papermill": {
     "duration": 0.033787,
     "end_time": "2022-10-30T14:40:27.523208",
     "exception": false,
     "start_time": "2022-10-30T14:40:27.489421",
     "status": "completed"
    },
    "tags": []
   },
   "source": [
    "*ลบ Features ที่สร้างใหม่ในขั้นตอน EDA เพื่อเตรียมรวม train และ test data เข้าด้วยกัน*"
   ]
  },
  {
   "cell_type": "code",
   "execution_count": 25,
   "id": "3ae033d5",
   "metadata": {
    "execution": {
     "iopub.execute_input": "2022-10-30T14:40:27.592622Z",
     "iopub.status.busy": "2022-10-30T14:40:27.592241Z",
     "iopub.status.idle": "2022-10-30T14:40:27.605085Z",
     "shell.execute_reply": "2022-10-30T14:40:27.604130Z"
    },
    "papermill": {
     "duration": 0.050856,
     "end_time": "2022-10-30T14:40:27.607868",
     "exception": false,
     "start_time": "2022-10-30T14:40:27.557012",
     "status": "completed"
    },
    "tags": []
   },
   "outputs": [],
   "source": [
    "train_df2 = train_df1.copy()\n",
    "\n",
    "# drop features created during EDA\n",
    "train_df2 = train_df2.drop([\"Group\",\n",
    "                            \"CabinDeck\",\n",
    "                            \"CabinNo.\",\n",
    "                            \"CabinSide\",\n",
    "                            \"FamilyName\",\n",
    "                            \"NumRelatives\",                              \n",
    "                            \"FamilySize\",\n",
    "                            \"Age_Group\",\n",
    "                            \"Group_size\",\n",
    "                            \"TotalSpendings\",\n",
    "                            \"ItSolo\"], axis = 1)\n",
    "                            "
   ]
  },
  {
   "cell_type": "code",
   "execution_count": 26,
   "id": "8462ef68",
   "metadata": {
    "execution": {
     "iopub.execute_input": "2022-10-30T14:40:27.677812Z",
     "iopub.status.busy": "2022-10-30T14:40:27.677417Z",
     "iopub.status.idle": "2022-10-30T14:40:27.694113Z",
     "shell.execute_reply": "2022-10-30T14:40:27.692539Z"
    },
    "papermill": {
     "duration": 0.055952,
     "end_time": "2022-10-30T14:40:27.697922",
     "exception": false,
     "start_time": "2022-10-30T14:40:27.641970",
     "status": "completed"
    },
    "tags": []
   },
   "outputs": [
    {
     "name": "stdout",
     "output_type": "stream",
     "text": [
      "<class 'pandas.core.frame.DataFrame'>\n",
      "Int64Index: 8693 entries, 0 to 8692\n",
      "Data columns (total 14 columns):\n",
      " #   Column        Non-Null Count  Dtype  \n",
      "---  ------        --------------  -----  \n",
      " 0   PassengerId   8693 non-null   object \n",
      " 1   HomePlanet    8492 non-null   object \n",
      " 2   CryoSleep     8476 non-null   object \n",
      " 3   Cabin         8494 non-null   object \n",
      " 4   Destination   8511 non-null   object \n",
      " 5   Age           8514 non-null   float64\n",
      " 6   VIP           8490 non-null   object \n",
      " 7   RoomService   8512 non-null   float64\n",
      " 8   FoodCourt     8510 non-null   float64\n",
      " 9   ShoppingMall  8485 non-null   float64\n",
      " 10  Spa           8510 non-null   float64\n",
      " 11  VRDeck        8505 non-null   float64\n",
      " 12  Name          8493 non-null   object \n",
      " 13  Transported   8693 non-null   bool   \n",
      "dtypes: bool(1), float64(6), object(7)\n",
      "memory usage: 1.2+ MB\n"
     ]
    }
   ],
   "source": [
    "train_df2.info()"
   ]
  },
  {
   "cell_type": "markdown",
   "id": "9236140d",
   "metadata": {
    "papermill": {
     "duration": 0.034569,
     "end_time": "2022-10-30T14:40:27.767677",
     "exception": false,
     "start_time": "2022-10-30T14:40:27.733108",
     "status": "completed"
    },
    "tags": []
   },
   "source": [
    "*เก็บข้อมูล Transported ไว้ในตัวแปร target\n",
    "และ PassengerId ไว้ในตัวแปร test_id* \n",
    "*ลบคอลัมน์ Transported แล้วทำการรวม train และ test set เข้าด้วยกันเพื่อความง่ายต่อการทำความสะอาดข้อมูล*\n"
   ]
  },
  {
   "cell_type": "code",
   "execution_count": 27,
   "id": "534932fe",
   "metadata": {
    "execution": {
     "iopub.execute_input": "2022-10-30T14:40:27.837642Z",
     "iopub.status.busy": "2022-10-30T14:40:27.836639Z",
     "iopub.status.idle": "2022-10-30T14:40:27.851968Z",
     "shell.execute_reply": "2022-10-30T14:40:27.850859Z"
    },
    "papermill": {
     "duration": 0.052962,
     "end_time": "2022-10-30T14:40:27.854551",
     "exception": false,
     "start_time": "2022-10-30T14:40:27.801589",
     "status": "completed"
    },
    "tags": []
   },
   "outputs": [],
   "source": [
    "# save target variable in train dataset and save it in target\n",
    "target = train_df2[\"Transported\"]\n",
    "\n",
    "# save test PassengerId in test_id\n",
    "test_id = test_df[\"PassengerId\"]\n",
    "\n",
    "# drop Transported variable from the train set\n",
    "train_df3 = train_df2.drop([\"Transported\"], axis = 1)\n",
    "\n",
    "# Join the train and test set \n",
    "data = pd.concat([train_df3, test_df], axis = 0).reset_index(drop = True)"
   ]
  },
  {
   "cell_type": "markdown",
   "id": "70ad3c29",
   "metadata": {
    "papermill": {
     "duration": 0.03437,
     "end_time": "2022-10-30T14:40:27.922615",
     "exception": false,
     "start_time": "2022-10-30T14:40:27.888245",
     "status": "completed"
    },
    "tags": []
   },
   "source": [
    "**Percentage of missing values in each columns**"
   ]
  },
  {
   "cell_type": "markdown",
   "id": "67c26250",
   "metadata": {
    "papermill": {
     "duration": 0.033722,
     "end_time": "2022-10-30T14:40:27.990210",
     "exception": false,
     "start_time": "2022-10-30T14:40:27.956488",
     "status": "completed"
    },
    "tags": []
   },
   "source": [
    "*จากขั้นตอนก่อนหน้านี้เป็นการเตรียมข้อมูลเพื่อที่จะนำมาทำความสะอาด สำหรับขั้นตอนนี้จะเป็นการหาค่าเปอร์เซ็นต์ (%) ของ missing values ในแต่ละ columns*"
   ]
  },
  {
   "cell_type": "code",
   "execution_count": 28,
   "id": "889cc61e",
   "metadata": {
    "execution": {
     "iopub.execute_input": "2022-10-30T14:40:28.060857Z",
     "iopub.status.busy": "2022-10-30T14:40:28.059761Z",
     "iopub.status.idle": "2022-10-30T14:40:28.074903Z",
     "shell.execute_reply": "2022-10-30T14:40:28.073867Z"
    },
    "papermill": {
     "duration": 0.0531,
     "end_time": "2022-10-30T14:40:28.077269",
     "exception": false,
     "start_time": "2022-10-30T14:40:28.024169",
     "status": "completed"
    },
    "tags": []
   },
   "outputs": [
    {
     "data": {
      "text/plain": [
       "PassengerId     0.000\n",
       "HomePlanet      2.221\n",
       "CryoSleep       2.390\n",
       "Cabin           2.305\n",
       "Destination     2.113\n",
       "Age             2.082\n",
       "VIP             2.282\n",
       "RoomService     2.028\n",
       "FoodCourt       2.228\n",
       "ShoppingMall    2.359\n",
       "Spa             2.190\n",
       "VRDeck          2.066\n",
       "Name            2.267\n",
       "dtype: float64"
      ]
     },
     "execution_count": 28,
     "metadata": {},
     "output_type": "execute_result"
    }
   ],
   "source": [
    "round(data.isna().sum() * 100/data.shape[0], 3)"
   ]
  },
  {
   "cell_type": "markdown",
   "id": "5e2e369f",
   "metadata": {
    "papermill": {
     "duration": 0.03461,
     "end_time": "2022-10-30T14:40:28.146010",
     "exception": false,
     "start_time": "2022-10-30T14:40:28.111400",
     "status": "completed"
    },
    "tags": []
   },
   "source": [
    "> จะเห็นได้ว่ามี missing values ในแต่ละ Feature อยู่ประมาณ 2%"
   ]
  },
  {
   "cell_type": "code",
   "execution_count": 29,
   "id": "26579ac6",
   "metadata": {
    "execution": {
     "iopub.execute_input": "2022-10-30T14:40:28.217032Z",
     "iopub.status.busy": "2022-10-30T14:40:28.216613Z",
     "iopub.status.idle": "2022-10-30T14:40:28.234990Z",
     "shell.execute_reply": "2022-10-30T14:40:28.233477Z"
    },
    "papermill": {
     "duration": 0.057271,
     "end_time": "2022-10-30T14:40:28.237765",
     "exception": false,
     "start_time": "2022-10-30T14:40:28.180494",
     "status": "completed"
    },
    "tags": []
   },
   "outputs": [
    {
     "name": "stdout",
     "output_type": "stream",
     "text": [
      "<class 'pandas.core.frame.DataFrame'>\n",
      "RangeIndex: 12970 entries, 0 to 12969\n",
      "Data columns (total 13 columns):\n",
      " #   Column        Non-Null Count  Dtype  \n",
      "---  ------        --------------  -----  \n",
      " 0   PassengerId   12970 non-null  object \n",
      " 1   HomePlanet    12682 non-null  object \n",
      " 2   CryoSleep     12660 non-null  object \n",
      " 3   Cabin         12671 non-null  object \n",
      " 4   Destination   12696 non-null  object \n",
      " 5   Age           12700 non-null  float64\n",
      " 6   VIP           12674 non-null  object \n",
      " 7   RoomService   12707 non-null  float64\n",
      " 8   FoodCourt     12681 non-null  float64\n",
      " 9   ShoppingMall  12664 non-null  float64\n",
      " 10  Spa           12686 non-null  float64\n",
      " 11  VRDeck        12702 non-null  float64\n",
      " 12  Name          12676 non-null  object \n",
      "dtypes: float64(6), object(7)\n",
      "memory usage: 1.3+ MB\n"
     ]
    }
   ],
   "source": [
    "data.info()"
   ]
  },
  {
   "cell_type": "markdown",
   "id": "e2a6c54a",
   "metadata": {
    "papermill": {
     "duration": 0.040197,
     "end_time": "2022-10-30T14:40:28.313234",
     "exception": false,
     "start_time": "2022-10-30T14:40:28.273037",
     "status": "completed"
    },
    "tags": []
   },
   "source": [
    "**Fill Categorical Features**\n"
   ]
  },
  {
   "cell_type": "markdown",
   "id": "afd56d33",
   "metadata": {
    "papermill": {
     "duration": 0.042458,
     "end_time": "2022-10-30T14:40:28.401263",
     "exception": false,
     "start_time": "2022-10-30T14:40:28.358805",
     "status": "completed"
    },
    "tags": []
   },
   "source": [
    "*ทำการเก็บ list ของ Categorical Features จากการเลือก data type ที่เป็น object โดยจะเก็บไว้ที่ list_missing_cat_columns*"
   ]
  },
  {
   "cell_type": "code",
   "execution_count": 30,
   "id": "e1cbc21e",
   "metadata": {
    "execution": {
     "iopub.execute_input": "2022-10-30T14:40:28.474588Z",
     "iopub.status.busy": "2022-10-30T14:40:28.473422Z",
     "iopub.status.idle": "2022-10-30T14:40:28.490662Z",
     "shell.execute_reply": "2022-10-30T14:40:28.489880Z"
    },
    "papermill": {
     "duration": 0.055756,
     "end_time": "2022-10-30T14:40:28.492874",
     "exception": false,
     "start_time": "2022-10-30T14:40:28.437118",
     "status": "completed"
    },
    "tags": []
   },
   "outputs": [
    {
     "data": {
      "text/plain": [
       "['PassengerId',\n",
       " 'HomePlanet',\n",
       " 'CryoSleep',\n",
       " 'Cabin',\n",
       " 'Destination',\n",
       " 'VIP',\n",
       " 'Name']"
      ]
     },
     "execution_count": 30,
     "metadata": {},
     "output_type": "execute_result"
    }
   ],
   "source": [
    "# get categorical columns in train dataset with missing values and store in list_missing_cat_columns\n",
    "data_1 = data.copy()\n",
    "\n",
    "list_missing_cat_columns = list((data_1.select_dtypes(['object']).isna().sum() > 0).index)\n",
    "list_missing_cat_columns"
   ]
  },
  {
   "cell_type": "markdown",
   "id": "f6df289f",
   "metadata": {
    "papermill": {
     "duration": 0.034556,
     "end_time": "2022-10-30T14:40:28.561565",
     "exception": false,
     "start_time": "2022-10-30T14:40:28.527009",
     "status": "completed"
    },
    "tags": []
   },
   "source": [
    "*ทำการเติมข้อมูลที่หายไปของ Categorical Features โดยใช้ mode*"
   ]
  },
  {
   "cell_type": "code",
   "execution_count": 31,
   "id": "29ed3e09",
   "metadata": {
    "execution": {
     "iopub.execute_input": "2022-10-30T14:40:28.634311Z",
     "iopub.status.busy": "2022-10-30T14:40:28.633566Z",
     "iopub.status.idle": "2022-10-30T14:40:28.675555Z",
     "shell.execute_reply": "2022-10-30T14:40:28.674401Z"
    },
    "papermill": {
     "duration": 0.081593,
     "end_time": "2022-10-30T14:40:28.678396",
     "exception": false,
     "start_time": "2022-10-30T14:40:28.596803",
     "status": "completed"
    },
    "tags": []
   },
   "outputs": [],
   "source": [
    "# Fill Categorical columns in data with mode\n",
    "for col in list_missing_cat_columns:\n",
    "    data_1[col] = data_1[col].fillna(data_1[col].mode()[0])"
   ]
  },
  {
   "cell_type": "markdown",
   "id": "fe7ea74c",
   "metadata": {
    "papermill": {
     "duration": 0.034662,
     "end_time": "2022-10-30T14:40:28.747454",
     "exception": false,
     "start_time": "2022-10-30T14:40:28.712792",
     "status": "completed"
    },
    "tags": []
   },
   "source": [
    "**Fill missing values for numeric columns**"
   ]
  },
  {
   "cell_type": "markdown",
   "id": "23d12e2c",
   "metadata": {
    "papermill": {
     "duration": 0.034366,
     "end_time": "2022-10-30T14:40:28.816750",
     "exception": false,
     "start_time": "2022-10-30T14:40:28.782384",
     "status": "completed"
    },
    "tags": []
   },
   "source": [
    "*ทำการเก็บ list ของ  Numeric Features จากการเลือก data type ที่เป็น number โดยจะเก็บไว้ที่ list_missing_numeric_columns*"
   ]
  },
  {
   "cell_type": "code",
   "execution_count": 32,
   "id": "3b1e828f",
   "metadata": {
    "execution": {
     "iopub.execute_input": "2022-10-30T14:40:28.888508Z",
     "iopub.status.busy": "2022-10-30T14:40:28.888092Z",
     "iopub.status.idle": "2022-10-30T14:40:28.898866Z",
     "shell.execute_reply": "2022-10-30T14:40:28.897744Z"
    },
    "papermill": {
     "duration": 0.049041,
     "end_time": "2022-10-30T14:40:28.901165",
     "exception": false,
     "start_time": "2022-10-30T14:40:28.852124",
     "status": "completed"
    },
    "tags": []
   },
   "outputs": [
    {
     "data": {
      "text/plain": [
       "['Age', 'RoomService', 'FoodCourt', 'ShoppingMall', 'Spa', 'VRDeck']"
      ]
     },
     "execution_count": 32,
     "metadata": {},
     "output_type": "execute_result"
    }
   ],
   "source": [
    "# get numeric columns with missing values and store in lst_missing_numeric_col\n",
    "list_missing_numeric_col = list((data_1.select_dtypes(np.number).isna().sum() > 0).index)\n",
    "list_missing_numeric_col"
   ]
  },
  {
   "cell_type": "markdown",
   "id": "9b4c2a05",
   "metadata": {
    "papermill": {
     "duration": 0.037295,
     "end_time": "2022-10-30T14:40:28.972749",
     "exception": false,
     "start_time": "2022-10-30T14:40:28.935454",
     "status": "completed"
    },
    "tags": []
   },
   "source": [
    "*จากการทำ EDA จะพบว่า ผู้โดยสารที่มีอายุต่ำกว่า 13 ปี หรือผู้โดยสารที่อยู่ใน CryoSleep จะไม่มีค่าใช้จ่าย  ดังนั้นจะแทนที่ missing values ด้วย 0 หากพบว่าเป็นผู้ที่มีอายุต่ำกว่า 13 ปี หรือ อยู่ใน CryoSleep รวมไปถึงใช้บริการสิ่งอำนวยความสะดวกบนยาน*"
   ]
  },
  {
   "cell_type": "code",
   "execution_count": 33,
   "id": "56b0d3ac",
   "metadata": {
    "execution": {
     "iopub.execute_input": "2022-10-30T14:40:29.044508Z",
     "iopub.status.busy": "2022-10-30T14:40:29.044067Z",
     "iopub.status.idle": "2022-10-30T14:40:29.057199Z",
     "shell.execute_reply": "2022-10-30T14:40:29.056143Z"
    },
    "papermill": {
     "duration": 0.051965,
     "end_time": "2022-10-30T14:40:29.059610",
     "exception": false,
     "start_time": "2022-10-30T14:40:29.007645",
     "status": "completed"
    },
    "tags": []
   },
   "outputs": [],
   "source": [
    "# Filling NaNs based on Age\n",
    "def fill_nans_by_age_and_cryosleep(df):\n",
    "    df[\"RoomService\"] = np.where((df[\"Age\"] < 13) | (df[\"CryoSleep\"] == True), 0, df[\"RoomService\"])\n",
    "    df[\"FoodCourt\"] = np.where((df[\"Age\"] < 13) | (df[\"CryoSleep\"] == True), 0, df[\"FoodCourt\"])\n",
    "    df[\"ShoppingMall\"] = np.where((df[\"Age\"] < 13) | (df[\"CryoSleep\"] == True), 0, df[\"ShoppingMall\"])\n",
    "    df[\"Spa\"] = np.where((df[\"Age\"] < 13) | (df[\"CryoSleep\"] == True), 0, df[\"Spa\"])\n",
    "    df[\"VRDeck\"] = np.where((df[\"Age\"] < 13) | (df[\"CryoSleep\"] == True), 0, df[\"VRDeck\"])\n",
    "    \n",
    "    return df\n",
    "\n",
    "data_1 = fill_nans_by_age_and_cryosleep(data_1)"
   ]
  },
  {
   "cell_type": "markdown",
   "id": "a517f917",
   "metadata": {
    "papermill": {
     "duration": 0.034652,
     "end_time": "2022-10-30T14:40:29.129913",
     "exception": false,
     "start_time": "2022-10-30T14:40:29.095261",
     "status": "completed"
    },
    "tags": []
   },
   "source": [
    "* Fill numeric columns in dataset with mean.\n",
    "\n",
    "*แทนที่ missing value ด้วยค่าเฉลี่ย(mean) ใน Numeric columns*"
   ]
  },
  {
   "cell_type": "code",
   "execution_count": 34,
   "id": "7a851f89",
   "metadata": {
    "execution": {
     "iopub.execute_input": "2022-10-30T14:40:29.201857Z",
     "iopub.status.busy": "2022-10-30T14:40:29.200717Z",
     "iopub.status.idle": "2022-10-30T14:40:29.216932Z",
     "shell.execute_reply": "2022-10-30T14:40:29.216093Z"
    },
    "papermill": {
     "duration": 0.054577,
     "end_time": "2022-10-30T14:40:29.219113",
     "exception": false,
     "start_time": "2022-10-30T14:40:29.164536",
     "status": "completed"
    },
    "tags": []
   },
   "outputs": [
    {
     "data": {
      "text/plain": [
       "PassengerId     0\n",
       "HomePlanet      0\n",
       "CryoSleep       0\n",
       "Cabin           0\n",
       "Destination     0\n",
       "Age             0\n",
       "VIP             0\n",
       "RoomService     0\n",
       "FoodCourt       0\n",
       "ShoppingMall    0\n",
       "Spa             0\n",
       "VRDeck          0\n",
       "Name            0\n",
       "dtype: int64"
      ]
     },
     "execution_count": 34,
     "metadata": {},
     "output_type": "execute_result"
    }
   ],
   "source": [
    "for col in list_missing_numeric_col:\n",
    "    data_1[col] = data_1[col].fillna(data_1[col].mean())\n",
    "data_1.isna().sum()"
   ]
  },
  {
   "cell_type": "markdown",
   "id": "36b9edba",
   "metadata": {
    "papermill": {
     "duration": 0.034734,
     "end_time": "2022-10-30T14:40:29.288433",
     "exception": false,
     "start_time": "2022-10-30T14:40:29.253699",
     "status": "completed"
    },
    "tags": []
   },
   "source": [
    "> ทำการเติม missing Values เสร็จทั้งหมดในขั้นตอนนี้"
   ]
  },
  {
   "cell_type": "markdown",
   "id": "2aa69875",
   "metadata": {
    "papermill": {
     "duration": 0.034969,
     "end_time": "2022-10-30T14:40:29.358199",
     "exception": false,
     "start_time": "2022-10-30T14:40:29.323230",
     "status": "completed"
    },
    "tags": []
   },
   "source": [
    "**Outlier Treatment**"
   ]
  },
  {
   "cell_type": "markdown",
   "id": "13888cfa",
   "metadata": {
    "papermill": {
     "duration": 0.036284,
     "end_time": "2022-10-30T14:40:29.429403",
     "exception": false,
     "start_time": "2022-10-30T14:40:29.393119",
     "status": "completed"
    },
    "tags": []
   },
   "source": [
    "*สร้างฟังก์ชันจัดการกับ Outlier ที่เกิดขึ้นในค่าใช้จ่ายต่าง ๆ โดยใช้ Quantile ที่ 0.99 มาหาค่า threshold ที่เหมาะในแต่ละ columns เมื่อค่าใน columns นั้น ๆ มีค่ามากกว่า Quantile ที่ 0.99 จะแทนค่านั้น ๆ ด้วยค่า threshold*"
   ]
  },
  {
   "cell_type": "code",
   "execution_count": 35,
   "id": "82e014e7",
   "metadata": {
    "execution": {
     "iopub.execute_input": "2022-10-30T14:40:29.501600Z",
     "iopub.status.busy": "2022-10-30T14:40:29.500555Z",
     "iopub.status.idle": "2022-10-30T14:40:29.514281Z",
     "shell.execute_reply": "2022-10-30T14:40:29.513422Z"
    },
    "papermill": {
     "duration": 0.052414,
     "end_time": "2022-10-30T14:40:29.516731",
     "exception": false,
     "start_time": "2022-10-30T14:40:29.464317",
     "status": "completed"
    },
    "tags": []
   },
   "outputs": [],
   "source": [
    "# clip outliers on 99% quantile\n",
    "def clipping_quantile(dataframe, quantile_values = None, quantile = 0.99):\n",
    "    df = dataframe.copy()\n",
    "    if quantile_values is None:\n",
    "        quantile_values = df[[\"RoomService\", \"FoodCourt\", \"ShoppingMall\", \"Spa\", \"VRDeck\"]].quantile(quantile)\n",
    "    for num_column in [\"RoomService\", \"FoodCourt\", \"ShoppingMall\", \"Spa\", \"VRDeck\"]:\n",
    "        num_values = df[num_column].values\n",
    "        threshold = quantile_values[num_column]\n",
    "        num_values = np.where(num_values > threshold, threshold, num_values)\n",
    "        df[num_column] = num_values\n",
    "    return df      \n",
    "    \n",
    "data_1 = clipping_quantile(data_1, None, 0.99)"
   ]
  },
  {
   "cell_type": "markdown",
   "id": "0fde6f4b",
   "metadata": {
    "papermill": {
     "duration": 0.034083,
     "end_time": "2022-10-30T14:40:29.585180",
     "exception": false,
     "start_time": "2022-10-30T14:40:29.551097",
     "status": "completed"
    },
    "tags": []
   },
   "source": [
    "# Feature Extraction and Feature Selection"
   ]
  },
  {
   "cell_type": "markdown",
   "id": "8f47a86e",
   "metadata": {
    "papermill": {
     "duration": 0.034286,
     "end_time": "2022-10-30T14:40:29.654919",
     "exception": false,
     "start_time": "2022-10-30T14:40:29.620633",
     "status": "completed"
    },
    "tags": []
   },
   "source": [
    "* *สร้าง Dataframe ชื่อว่า ‘NumInGroup’ ที่ประกอบด้วย ‘Group’ และ ‘Group_size’*\n",
    "* *สร้าง Feature ชื่อ ‘ItSolo’ ในกรณีที่ ‘Group_size’ มีค่ามากกว่า 1 จะให้เป็น Group ถ้าไม่ใช่จะให้เป็น Solo แล้วทำการรวม 2 Features คือ ‘Group’ และ ‘ItSolo’ เข้าด้วยกัน* \n",
    "* *สร้าง Feature ชื่อ ‘CabinDeck’ ที่จะทำการแบ่งข้อมูลจาก ‘Cabin’ โดยใช้ ‘/’ เป็นตัวแบ่ง*\n",
    "* *สร้าง Feature ชื่อ ‘DeckPosition’ ที่จะคืนค่าเป็น Lower เมื่อ deck อยู่ในชั้น A, B, C, D ถ้าไม่ใช่จะคืนค่าเป็น Higher* \n",
    "* *สร้าง Feature ชื่อ ‘CabinSide’ ที่จะทำการแบ่งข้อมูลจาก ‘Cabin’ โดยใช้ ‘/’ เป็นตัวแบ่ง*\n",
    "* *สร้าง Feature ชื่อ ‘Regular’ ซึ่งประกอบด้วย ‘FoodCourt’ และ ‘ShoppingMall’*\n",
    "* *สร้าง Feature ชื่อ ‘Luxury’ ซึ่งประกอบด้วย ‘RoomService’, ‘Spa’ และ ‘VRDeck’*\n",
    "* *สร้าง Feature ชื่อ ‘TotalSpendings’ ซึ่งประกอบด้วย ‘RoomService’, ‘FoodCourt’, ‘ShoppingMall’, ‘Spa’ และ ‘VRDeck’ หลังจากนั้นสร้างตัวแปร ‘Wealthiest_Deck’ ใช้สำหรับจับกลุ่ม ‘CabinDeck’ และรวมผลรวมจาก ‘TotalSpendings’ และขนาดของ ‘PassengerId’*\n",
    "* *สร้าง Feature ชื่อ ‘DeckAverageSpent’ เกิดจากการนำผลรวมของ‘TotalSpendings’ หารด้วยจำนวน ‘PassengerId’ ในแต่ละ Deck*\n",
    "* *ทำการแบ่งข้อมูล Name โดยใช้ ‘ ’ เป็นตัวแบ่งโดยเก็บข้อมูลไว้ใน Feature ที่ชื่อว่า ‘FamilyName’*\n",
    "* *สร้าง Feature ‘NoRelatives’ ซึ่งมีการจับกลุ่ม ‘FamilyName’ กับ ‘PassengerId’ แล้วทำการนับจำนวนทั้งหมด หลังจากนั้นจะทำการเปลี่ยนชื่อ columns จาก ‘PassengerId’ เป็น ‘NumRelatives’*\n",
    "* *สร้าง Feature ‘FamilySize’ โดยแบ่งข้อมูลออกเป็น 4 ส่วน ซึ่งได้แก่จำนวนสมาชิกในครอบครัวในช่วง 0 - 2 คน, 3 - 5 คน, 6 - 10 คน และ 11 - 20 คน*"
   ]
  },
  {
   "cell_type": "code",
   "execution_count": 36,
   "id": "4b4c3c30",
   "metadata": {
    "execution": {
     "iopub.execute_input": "2022-10-30T14:40:29.725668Z",
     "iopub.status.busy": "2022-10-30T14:40:29.725022Z",
     "iopub.status.idle": "2022-10-30T14:40:29.897225Z",
     "shell.execute_reply": "2022-10-30T14:40:29.896037Z"
    },
    "papermill": {
     "duration": 0.210879,
     "end_time": "2022-10-30T14:40:29.900076",
     "exception": false,
     "start_time": "2022-10-30T14:40:29.689197",
     "status": "completed"
    },
    "tags": []
   },
   "outputs": [],
   "source": [
    "def extract_features(df):\n",
    "    df[\"Group\"] = (df[\"PassengerId\"].str.split('_', expand = True))[0]\n",
    "    \n",
    "    # Create dataframe NumGroup that contains the PassengerGroup and the number of passengers in the group \n",
    "    NumInGroup = df.groupby('Group').aggregate({'PassengerId': 'size'}).reset_index()\n",
    "    NumInGroup = NumInGroup.rename(columns = {\"PassengerId\": \"Group_size\"})\n",
    "   \n",
    "    # Create ItSolo feature\n",
    "    NumInGroup[\"ItSolo\"] = NumInGroup[\"Group_size\"].apply(lambda x: \"Group\" if x > 1 else \"Solo\")\n",
    "    df = df.merge(NumInGroup[[\"Group\", \"ItSolo\"]], how = 'left', on = ['Group'])\n",
    "    \n",
    "    # Create CabinDeck feature\n",
    "    df[\"CabinDeck\"] = df[\"Cabin\"].str.split('/', expand = True)[0]\n",
    "    # Create DeckPosition feature\n",
    "    df[\"DeckPosition\"] = df[\"CabinDeck\"].apply(lambda deck: \"Lower\" if deck in ('A', 'B', 'C', 'D') else \"Higher\" )\n",
    "    # Create CabinSide feature\n",
    "    df[\"CabinSide\"] = df[\"Cabin\"].str.split('/', expand = True)[2]\n",
    "    \n",
    "    # Create Regular feature\n",
    "    df[\"Regular\"] = df[\"FoodCourt\"] + df[\"ShoppingMall\"] \n",
    "    # Create Luxury feature\n",
    "    df[\"Luxury\"] = df[\"RoomService\"] + df[\"Spa\"] + df[\"VRDeck\"]\n",
    "    # Create TotalSpendings feature\n",
    "    df[\"TotalSpendings\"] = df[\"RoomService\"] + df[\"FoodCourt\"] + df[\"ShoppingMall\"] + df[\"Spa\"] + df[\"VRDeck\"]\n",
    "    \n",
    "    Wealthiest_Deck = df.groupby('CabinDeck').aggregate({'TotalSpendings': 'sum', 'PassengerId': 'size'}).reset_index()\n",
    "\n",
    "    # Create DeckAverageSpent feature\n",
    "    Wealthiest_Deck['DeckAverageSpent'] = Wealthiest_Deck['TotalSpendings'] / Wealthiest_Deck['PassengerId']\n",
    "    \n",
    "    df = df.merge(Wealthiest_Deck[[\"CabinDeck\", \"DeckAverageSpent\"]], how = 'left', on = ['CabinDeck'])\n",
    "    \n",
    "    df[\"FamilyName\"] = df[\"Name\"].str.split(' ', expand = True)[1]\n",
    "    \n",
    "    # Create NoRelatives feature\n",
    "    NoRelatives = df.groupby('FamilyName')['PassengerId'].count().reset_index()\n",
    "    NoRelatives = NoRelatives.rename(columns = {\"PassengerId\": \"NumRelatives\"})    \n",
    "    df = df.merge(NoRelatives[[\"FamilyName\", \"NumRelatives\"]], how = 'left', on = ['FamilyName'])\n",
    "   \n",
    "    # Create FamilySize feature\n",
    "    df[\"FamilySize\"] = pd.cut(df.NumRelatives, bins = [0, 2, 5, 10, 300], labels = ['0 - 2', '3 - 5', '6 - 10', '11 - 20'])\n",
    "    \n",
    "    return df\n",
    "\n",
    "data_2 = data_1.copy()\n",
    "data_2 = extract_features(data_2)"
   ]
  },
  {
   "cell_type": "code",
   "execution_count": 37,
   "id": "86ecc7e5",
   "metadata": {
    "execution": {
     "iopub.execute_input": "2022-10-30T14:40:29.971452Z",
     "iopub.status.busy": "2022-10-30T14:40:29.970471Z",
     "iopub.status.idle": "2022-10-30T14:40:30.009988Z",
     "shell.execute_reply": "2022-10-30T14:40:30.008876Z"
    },
    "papermill": {
     "duration": 0.077888,
     "end_time": "2022-10-30T14:40:30.012488",
     "exception": false,
     "start_time": "2022-10-30T14:40:29.934600",
     "status": "completed"
    },
    "tags": []
   },
   "outputs": [
    {
     "data": {
      "text/html": [
       "<div>\n",
       "<style scoped>\n",
       "    .dataframe tbody tr th:only-of-type {\n",
       "        vertical-align: middle;\n",
       "    }\n",
       "\n",
       "    .dataframe tbody tr th {\n",
       "        vertical-align: top;\n",
       "    }\n",
       "\n",
       "    .dataframe thead th {\n",
       "        text-align: right;\n",
       "    }\n",
       "</style>\n",
       "<table border=\"1\" class=\"dataframe\">\n",
       "  <thead>\n",
       "    <tr style=\"text-align: right;\">\n",
       "      <th></th>\n",
       "      <th>PassengerId</th>\n",
       "      <th>HomePlanet</th>\n",
       "      <th>CryoSleep</th>\n",
       "      <th>Cabin</th>\n",
       "      <th>Destination</th>\n",
       "      <th>Age</th>\n",
       "      <th>VIP</th>\n",
       "      <th>RoomService</th>\n",
       "      <th>FoodCourt</th>\n",
       "      <th>ShoppingMall</th>\n",
       "      <th>Spa</th>\n",
       "      <th>VRDeck</th>\n",
       "      <th>Name</th>\n",
       "      <th>Group</th>\n",
       "      <th>ItSolo</th>\n",
       "      <th>CabinDeck</th>\n",
       "      <th>DeckPosition</th>\n",
       "      <th>CabinSide</th>\n",
       "      <th>Regular</th>\n",
       "      <th>Luxury</th>\n",
       "      <th>TotalSpendings</th>\n",
       "      <th>DeckAverageSpent</th>\n",
       "      <th>FamilyName</th>\n",
       "      <th>NumRelatives</th>\n",
       "      <th>FamilySize</th>\n",
       "    </tr>\n",
       "  </thead>\n",
       "  <tbody>\n",
       "    <tr>\n",
       "      <th>0</th>\n",
       "      <td>0001_01</td>\n",
       "      <td>Europa</td>\n",
       "      <td>False</td>\n",
       "      <td>B/0/P</td>\n",
       "      <td>TRAPPIST-1e</td>\n",
       "      <td>39.000000</td>\n",
       "      <td>False</td>\n",
       "      <td>0.0</td>\n",
       "      <td>0.0</td>\n",
       "      <td>0.0</td>\n",
       "      <td>0.00</td>\n",
       "      <td>0.0</td>\n",
       "      <td>Maham Ofracculy</td>\n",
       "      <td>0001</td>\n",
       "      <td>Solo</td>\n",
       "      <td>B</td>\n",
       "      <td>Lower</td>\n",
       "      <td>P</td>\n",
       "      <td>0.0</td>\n",
       "      <td>0.00</td>\n",
       "      <td>0.00</td>\n",
       "      <td>2425.390365</td>\n",
       "      <td>Ofracculy</td>\n",
       "      <td>3</td>\n",
       "      <td>3 - 5</td>\n",
       "    </tr>\n",
       "    <tr>\n",
       "      <th>1</th>\n",
       "      <td>0002_01</td>\n",
       "      <td>Earth</td>\n",
       "      <td>False</td>\n",
       "      <td>F/0/S</td>\n",
       "      <td>TRAPPIST-1e</td>\n",
       "      <td>24.000000</td>\n",
       "      <td>False</td>\n",
       "      <td>109.0</td>\n",
       "      <td>9.0</td>\n",
       "      <td>25.0</td>\n",
       "      <td>549.00</td>\n",
       "      <td>44.0</td>\n",
       "      <td>Juanna Vines</td>\n",
       "      <td>0002</td>\n",
       "      <td>Solo</td>\n",
       "      <td>F</td>\n",
       "      <td>Higher</td>\n",
       "      <td>S</td>\n",
       "      <td>34.0</td>\n",
       "      <td>702.00</td>\n",
       "      <td>736.00</td>\n",
       "      <td>988.676218</td>\n",
       "      <td>Vines</td>\n",
       "      <td>4</td>\n",
       "      <td>3 - 5</td>\n",
       "    </tr>\n",
       "    <tr>\n",
       "      <th>2</th>\n",
       "      <td>0003_01</td>\n",
       "      <td>Europa</td>\n",
       "      <td>False</td>\n",
       "      <td>A/0/S</td>\n",
       "      <td>TRAPPIST-1e</td>\n",
       "      <td>58.000000</td>\n",
       "      <td>True</td>\n",
       "      <td>43.0</td>\n",
       "      <td>3576.0</td>\n",
       "      <td>0.0</td>\n",
       "      <td>5382.86</td>\n",
       "      <td>49.0</td>\n",
       "      <td>Altark Susent</td>\n",
       "      <td>0003</td>\n",
       "      <td>Group</td>\n",
       "      <td>A</td>\n",
       "      <td>Lower</td>\n",
       "      <td>S</td>\n",
       "      <td>3576.0</td>\n",
       "      <td>5474.86</td>\n",
       "      <td>9050.86</td>\n",
       "      <td>3021.123690</td>\n",
       "      <td>Susent</td>\n",
       "      <td>7</td>\n",
       "      <td>6 - 10</td>\n",
       "    </tr>\n",
       "    <tr>\n",
       "      <th>3</th>\n",
       "      <td>0003_02</td>\n",
       "      <td>Europa</td>\n",
       "      <td>False</td>\n",
       "      <td>A/0/S</td>\n",
       "      <td>TRAPPIST-1e</td>\n",
       "      <td>33.000000</td>\n",
       "      <td>False</td>\n",
       "      <td>0.0</td>\n",
       "      <td>1283.0</td>\n",
       "      <td>371.0</td>\n",
       "      <td>3329.00</td>\n",
       "      <td>193.0</td>\n",
       "      <td>Solam Susent</td>\n",
       "      <td>0003</td>\n",
       "      <td>Group</td>\n",
       "      <td>A</td>\n",
       "      <td>Lower</td>\n",
       "      <td>S</td>\n",
       "      <td>1654.0</td>\n",
       "      <td>3522.00</td>\n",
       "      <td>5176.00</td>\n",
       "      <td>3021.123690</td>\n",
       "      <td>Susent</td>\n",
       "      <td>7</td>\n",
       "      <td>6 - 10</td>\n",
       "    </tr>\n",
       "    <tr>\n",
       "      <th>4</th>\n",
       "      <td>0004_01</td>\n",
       "      <td>Earth</td>\n",
       "      <td>False</td>\n",
       "      <td>F/1/S</td>\n",
       "      <td>TRAPPIST-1e</td>\n",
       "      <td>16.000000</td>\n",
       "      <td>False</td>\n",
       "      <td>303.0</td>\n",
       "      <td>70.0</td>\n",
       "      <td>151.0</td>\n",
       "      <td>565.00</td>\n",
       "      <td>2.0</td>\n",
       "      <td>Willy Santantines</td>\n",
       "      <td>0004</td>\n",
       "      <td>Solo</td>\n",
       "      <td>F</td>\n",
       "      <td>Higher</td>\n",
       "      <td>S</td>\n",
       "      <td>221.0</td>\n",
       "      <td>870.00</td>\n",
       "      <td>1091.00</td>\n",
       "      <td>988.676218</td>\n",
       "      <td>Santantines</td>\n",
       "      <td>9</td>\n",
       "      <td>6 - 10</td>\n",
       "    </tr>\n",
       "    <tr>\n",
       "      <th>...</th>\n",
       "      <td>...</td>\n",
       "      <td>...</td>\n",
       "      <td>...</td>\n",
       "      <td>...</td>\n",
       "      <td>...</td>\n",
       "      <td>...</td>\n",
       "      <td>...</td>\n",
       "      <td>...</td>\n",
       "      <td>...</td>\n",
       "      <td>...</td>\n",
       "      <td>...</td>\n",
       "      <td>...</td>\n",
       "      <td>...</td>\n",
       "      <td>...</td>\n",
       "      <td>...</td>\n",
       "      <td>...</td>\n",
       "      <td>...</td>\n",
       "      <td>...</td>\n",
       "      <td>...</td>\n",
       "      <td>...</td>\n",
       "      <td>...</td>\n",
       "      <td>...</td>\n",
       "      <td>...</td>\n",
       "      <td>...</td>\n",
       "      <td>...</td>\n",
       "    </tr>\n",
       "    <tr>\n",
       "      <th>12965</th>\n",
       "      <td>9266_02</td>\n",
       "      <td>Earth</td>\n",
       "      <td>True</td>\n",
       "      <td>G/1496/S</td>\n",
       "      <td>TRAPPIST-1e</td>\n",
       "      <td>34.000000</td>\n",
       "      <td>False</td>\n",
       "      <td>0.0</td>\n",
       "      <td>0.0</td>\n",
       "      <td>0.0</td>\n",
       "      <td>0.00</td>\n",
       "      <td>0.0</td>\n",
       "      <td>Jeron Peter</td>\n",
       "      <td>9266</td>\n",
       "      <td>Group</td>\n",
       "      <td>G</td>\n",
       "      <td>Higher</td>\n",
       "      <td>S</td>\n",
       "      <td>0.0</td>\n",
       "      <td>0.00</td>\n",
       "      <td>0.00</td>\n",
       "      <td>455.663879</td>\n",
       "      <td>Peter</td>\n",
       "      <td>10</td>\n",
       "      <td>6 - 10</td>\n",
       "    </tr>\n",
       "    <tr>\n",
       "      <th>12966</th>\n",
       "      <td>9269_01</td>\n",
       "      <td>Earth</td>\n",
       "      <td>False</td>\n",
       "      <td>G/160/P</td>\n",
       "      <td>TRAPPIST-1e</td>\n",
       "      <td>42.000000</td>\n",
       "      <td>False</td>\n",
       "      <td>0.0</td>\n",
       "      <td>847.0</td>\n",
       "      <td>17.0</td>\n",
       "      <td>10.00</td>\n",
       "      <td>144.0</td>\n",
       "      <td>Matty Scheron</td>\n",
       "      <td>9269</td>\n",
       "      <td>Solo</td>\n",
       "      <td>G</td>\n",
       "      <td>Higher</td>\n",
       "      <td>P</td>\n",
       "      <td>864.0</td>\n",
       "      <td>154.00</td>\n",
       "      <td>1018.00</td>\n",
       "      <td>455.663879</td>\n",
       "      <td>Scheron</td>\n",
       "      <td>6</td>\n",
       "      <td>6 - 10</td>\n",
       "    </tr>\n",
       "    <tr>\n",
       "      <th>12967</th>\n",
       "      <td>9271_01</td>\n",
       "      <td>Mars</td>\n",
       "      <td>True</td>\n",
       "      <td>D/296/P</td>\n",
       "      <td>55 Cancri e</td>\n",
       "      <td>28.771969</td>\n",
       "      <td>False</td>\n",
       "      <td>0.0</td>\n",
       "      <td>0.0</td>\n",
       "      <td>0.0</td>\n",
       "      <td>0.00</td>\n",
       "      <td>0.0</td>\n",
       "      <td>Jayrin Pore</td>\n",
       "      <td>9271</td>\n",
       "      <td>Solo</td>\n",
       "      <td>D</td>\n",
       "      <td>Lower</td>\n",
       "      <td>P</td>\n",
       "      <td>0.0</td>\n",
       "      <td>0.00</td>\n",
       "      <td>0.00</td>\n",
       "      <td>2221.504384</td>\n",
       "      <td>Pore</td>\n",
       "      <td>4</td>\n",
       "      <td>3 - 5</td>\n",
       "    </tr>\n",
       "    <tr>\n",
       "      <th>12968</th>\n",
       "      <td>9273_01</td>\n",
       "      <td>Europa</td>\n",
       "      <td>False</td>\n",
       "      <td>D/297/P</td>\n",
       "      <td>TRAPPIST-1e</td>\n",
       "      <td>28.771969</td>\n",
       "      <td>False</td>\n",
       "      <td>0.0</td>\n",
       "      <td>2680.0</td>\n",
       "      <td>0.0</td>\n",
       "      <td>0.00</td>\n",
       "      <td>523.0</td>\n",
       "      <td>Kitakan Conale</td>\n",
       "      <td>9273</td>\n",
       "      <td>Solo</td>\n",
       "      <td>D</td>\n",
       "      <td>Lower</td>\n",
       "      <td>P</td>\n",
       "      <td>2680.0</td>\n",
       "      <td>523.00</td>\n",
       "      <td>3203.00</td>\n",
       "      <td>2221.504384</td>\n",
       "      <td>Conale</td>\n",
       "      <td>7</td>\n",
       "      <td>6 - 10</td>\n",
       "    </tr>\n",
       "    <tr>\n",
       "      <th>12969</th>\n",
       "      <td>9277_01</td>\n",
       "      <td>Earth</td>\n",
       "      <td>True</td>\n",
       "      <td>G/1498/S</td>\n",
       "      <td>PSO J318.5-22</td>\n",
       "      <td>43.000000</td>\n",
       "      <td>False</td>\n",
       "      <td>0.0</td>\n",
       "      <td>0.0</td>\n",
       "      <td>0.0</td>\n",
       "      <td>0.00</td>\n",
       "      <td>0.0</td>\n",
       "      <td>Lilace Leonzaley</td>\n",
       "      <td>9277</td>\n",
       "      <td>Solo</td>\n",
       "      <td>G</td>\n",
       "      <td>Higher</td>\n",
       "      <td>S</td>\n",
       "      <td>0.0</td>\n",
       "      <td>0.00</td>\n",
       "      <td>0.00</td>\n",
       "      <td>455.663879</td>\n",
       "      <td>Leonzaley</td>\n",
       "      <td>9</td>\n",
       "      <td>6 - 10</td>\n",
       "    </tr>\n",
       "  </tbody>\n",
       "</table>\n",
       "<p>12970 rows × 25 columns</p>\n",
       "</div>"
      ],
      "text/plain": [
       "      PassengerId HomePlanet  CryoSleep     Cabin    Destination        Age  \\\n",
       "0         0001_01     Europa      False     B/0/P    TRAPPIST-1e  39.000000   \n",
       "1         0002_01      Earth      False     F/0/S    TRAPPIST-1e  24.000000   \n",
       "2         0003_01     Europa      False     A/0/S    TRAPPIST-1e  58.000000   \n",
       "3         0003_02     Europa      False     A/0/S    TRAPPIST-1e  33.000000   \n",
       "4         0004_01      Earth      False     F/1/S    TRAPPIST-1e  16.000000   \n",
       "...           ...        ...        ...       ...            ...        ...   \n",
       "12965     9266_02      Earth       True  G/1496/S    TRAPPIST-1e  34.000000   \n",
       "12966     9269_01      Earth      False   G/160/P    TRAPPIST-1e  42.000000   \n",
       "12967     9271_01       Mars       True   D/296/P    55 Cancri e  28.771969   \n",
       "12968     9273_01     Europa      False   D/297/P    TRAPPIST-1e  28.771969   \n",
       "12969     9277_01      Earth       True  G/1498/S  PSO J318.5-22  43.000000   \n",
       "\n",
       "         VIP  RoomService  FoodCourt  ShoppingMall      Spa  VRDeck  \\\n",
       "0      False          0.0        0.0           0.0     0.00     0.0   \n",
       "1      False        109.0        9.0          25.0   549.00    44.0   \n",
       "2       True         43.0     3576.0           0.0  5382.86    49.0   \n",
       "3      False          0.0     1283.0         371.0  3329.00   193.0   \n",
       "4      False        303.0       70.0         151.0   565.00     2.0   \n",
       "...      ...          ...        ...           ...      ...     ...   \n",
       "12965  False          0.0        0.0           0.0     0.00     0.0   \n",
       "12966  False          0.0      847.0          17.0    10.00   144.0   \n",
       "12967  False          0.0        0.0           0.0     0.00     0.0   \n",
       "12968  False          0.0     2680.0           0.0     0.00   523.0   \n",
       "12969  False          0.0        0.0           0.0     0.00     0.0   \n",
       "\n",
       "                    Name Group ItSolo CabinDeck DeckPosition CabinSide  \\\n",
       "0        Maham Ofracculy  0001   Solo         B        Lower         P   \n",
       "1           Juanna Vines  0002   Solo         F       Higher         S   \n",
       "2          Altark Susent  0003  Group         A        Lower         S   \n",
       "3           Solam Susent  0003  Group         A        Lower         S   \n",
       "4      Willy Santantines  0004   Solo         F       Higher         S   \n",
       "...                  ...   ...    ...       ...          ...       ...   \n",
       "12965        Jeron Peter  9266  Group         G       Higher         S   \n",
       "12966      Matty Scheron  9269   Solo         G       Higher         P   \n",
       "12967        Jayrin Pore  9271   Solo         D        Lower         P   \n",
       "12968     Kitakan Conale  9273   Solo         D        Lower         P   \n",
       "12969   Lilace Leonzaley  9277   Solo         G       Higher         S   \n",
       "\n",
       "       Regular   Luxury  TotalSpendings  DeckAverageSpent   FamilyName  \\\n",
       "0          0.0     0.00            0.00       2425.390365    Ofracculy   \n",
       "1         34.0   702.00          736.00        988.676218        Vines   \n",
       "2       3576.0  5474.86         9050.86       3021.123690       Susent   \n",
       "3       1654.0  3522.00         5176.00       3021.123690       Susent   \n",
       "4        221.0   870.00         1091.00        988.676218  Santantines   \n",
       "...        ...      ...             ...               ...          ...   \n",
       "12965      0.0     0.00            0.00        455.663879        Peter   \n",
       "12966    864.0   154.00         1018.00        455.663879      Scheron   \n",
       "12967      0.0     0.00            0.00       2221.504384         Pore   \n",
       "12968   2680.0   523.00         3203.00       2221.504384       Conale   \n",
       "12969      0.0     0.00            0.00        455.663879    Leonzaley   \n",
       "\n",
       "       NumRelatives FamilySize  \n",
       "0                 3      3 - 5  \n",
       "1                 4      3 - 5  \n",
       "2                 7     6 - 10  \n",
       "3                 7     6 - 10  \n",
       "4                 9     6 - 10  \n",
       "...             ...        ...  \n",
       "12965            10     6 - 10  \n",
       "12966             6     6 - 10  \n",
       "12967             4      3 - 5  \n",
       "12968             7     6 - 10  \n",
       "12969             9     6 - 10  \n",
       "\n",
       "[12970 rows x 25 columns]"
      ]
     },
     "execution_count": 37,
     "metadata": {},
     "output_type": "execute_result"
    }
   ],
   "source": [
    "data_2"
   ]
  },
  {
   "cell_type": "code",
   "execution_count": 38,
   "id": "a68c597f",
   "metadata": {
    "execution": {
     "iopub.execute_input": "2022-10-30T14:40:30.084742Z",
     "iopub.status.busy": "2022-10-30T14:40:30.084318Z",
     "iopub.status.idle": "2022-10-30T14:40:30.115191Z",
     "shell.execute_reply": "2022-10-30T14:40:30.114171Z"
    },
    "papermill": {
     "duration": 0.069859,
     "end_time": "2022-10-30T14:40:30.117302",
     "exception": false,
     "start_time": "2022-10-30T14:40:30.047443",
     "status": "completed"
    },
    "tags": []
   },
   "outputs": [
    {
     "data": {
      "text/html": [
       "<div>\n",
       "<style scoped>\n",
       "    .dataframe tbody tr th:only-of-type {\n",
       "        vertical-align: middle;\n",
       "    }\n",
       "\n",
       "    .dataframe tbody tr th {\n",
       "        vertical-align: top;\n",
       "    }\n",
       "\n",
       "    .dataframe thead th {\n",
       "        text-align: right;\n",
       "    }\n",
       "</style>\n",
       "<table border=\"1\" class=\"dataframe\">\n",
       "  <thead>\n",
       "    <tr style=\"text-align: right;\">\n",
       "      <th></th>\n",
       "      <th>PassengerId</th>\n",
       "      <th>HomePlanet</th>\n",
       "      <th>CryoSleep</th>\n",
       "      <th>Cabin</th>\n",
       "      <th>Destination</th>\n",
       "      <th>Age</th>\n",
       "      <th>VIP</th>\n",
       "      <th>RoomService</th>\n",
       "      <th>FoodCourt</th>\n",
       "      <th>ShoppingMall</th>\n",
       "      <th>Spa</th>\n",
       "      <th>VRDeck</th>\n",
       "      <th>Name</th>\n",
       "      <th>Group</th>\n",
       "      <th>ItSolo</th>\n",
       "      <th>CabinDeck</th>\n",
       "      <th>DeckPosition</th>\n",
       "      <th>CabinSide</th>\n",
       "      <th>Regular</th>\n",
       "      <th>Luxury</th>\n",
       "      <th>TotalSpendings</th>\n",
       "      <th>DeckAverageSpent</th>\n",
       "      <th>FamilyName</th>\n",
       "      <th>NumRelatives</th>\n",
       "      <th>FamilySize</th>\n",
       "    </tr>\n",
       "  </thead>\n",
       "  <tbody>\n",
       "    <tr>\n",
       "      <th>0</th>\n",
       "      <td>0001_01</td>\n",
       "      <td>Europa</td>\n",
       "      <td>False</td>\n",
       "      <td>B/0/P</td>\n",
       "      <td>TRAPPIST-1e</td>\n",
       "      <td>39.0</td>\n",
       "      <td>False</td>\n",
       "      <td>0.0</td>\n",
       "      <td>0.0</td>\n",
       "      <td>0.0</td>\n",
       "      <td>0.00</td>\n",
       "      <td>0.0</td>\n",
       "      <td>Maham Ofracculy</td>\n",
       "      <td>0001</td>\n",
       "      <td>Solo</td>\n",
       "      <td>B</td>\n",
       "      <td>Lower</td>\n",
       "      <td>P</td>\n",
       "      <td>0.0</td>\n",
       "      <td>0.00</td>\n",
       "      <td>0.00</td>\n",
       "      <td>2425.390365</td>\n",
       "      <td>Ofracculy</td>\n",
       "      <td>3</td>\n",
       "      <td>3 - 5</td>\n",
       "    </tr>\n",
       "    <tr>\n",
       "      <th>1</th>\n",
       "      <td>0002_01</td>\n",
       "      <td>Earth</td>\n",
       "      <td>False</td>\n",
       "      <td>F/0/S</td>\n",
       "      <td>TRAPPIST-1e</td>\n",
       "      <td>24.0</td>\n",
       "      <td>False</td>\n",
       "      <td>109.0</td>\n",
       "      <td>9.0</td>\n",
       "      <td>25.0</td>\n",
       "      <td>549.00</td>\n",
       "      <td>44.0</td>\n",
       "      <td>Juanna Vines</td>\n",
       "      <td>0002</td>\n",
       "      <td>Solo</td>\n",
       "      <td>F</td>\n",
       "      <td>Higher</td>\n",
       "      <td>S</td>\n",
       "      <td>34.0</td>\n",
       "      <td>702.00</td>\n",
       "      <td>736.00</td>\n",
       "      <td>988.676218</td>\n",
       "      <td>Vines</td>\n",
       "      <td>4</td>\n",
       "      <td>3 - 5</td>\n",
       "    </tr>\n",
       "    <tr>\n",
       "      <th>2</th>\n",
       "      <td>0003_01</td>\n",
       "      <td>Europa</td>\n",
       "      <td>False</td>\n",
       "      <td>A/0/S</td>\n",
       "      <td>TRAPPIST-1e</td>\n",
       "      <td>58.0</td>\n",
       "      <td>True</td>\n",
       "      <td>43.0</td>\n",
       "      <td>3576.0</td>\n",
       "      <td>0.0</td>\n",
       "      <td>5382.86</td>\n",
       "      <td>49.0</td>\n",
       "      <td>Altark Susent</td>\n",
       "      <td>0003</td>\n",
       "      <td>Group</td>\n",
       "      <td>A</td>\n",
       "      <td>Lower</td>\n",
       "      <td>S</td>\n",
       "      <td>3576.0</td>\n",
       "      <td>5474.86</td>\n",
       "      <td>9050.86</td>\n",
       "      <td>3021.123690</td>\n",
       "      <td>Susent</td>\n",
       "      <td>7</td>\n",
       "      <td>6 - 10</td>\n",
       "    </tr>\n",
       "    <tr>\n",
       "      <th>3</th>\n",
       "      <td>0003_02</td>\n",
       "      <td>Europa</td>\n",
       "      <td>False</td>\n",
       "      <td>A/0/S</td>\n",
       "      <td>TRAPPIST-1e</td>\n",
       "      <td>33.0</td>\n",
       "      <td>False</td>\n",
       "      <td>0.0</td>\n",
       "      <td>1283.0</td>\n",
       "      <td>371.0</td>\n",
       "      <td>3329.00</td>\n",
       "      <td>193.0</td>\n",
       "      <td>Solam Susent</td>\n",
       "      <td>0003</td>\n",
       "      <td>Group</td>\n",
       "      <td>A</td>\n",
       "      <td>Lower</td>\n",
       "      <td>S</td>\n",
       "      <td>1654.0</td>\n",
       "      <td>3522.00</td>\n",
       "      <td>5176.00</td>\n",
       "      <td>3021.123690</td>\n",
       "      <td>Susent</td>\n",
       "      <td>7</td>\n",
       "      <td>6 - 10</td>\n",
       "    </tr>\n",
       "    <tr>\n",
       "      <th>4</th>\n",
       "      <td>0004_01</td>\n",
       "      <td>Earth</td>\n",
       "      <td>False</td>\n",
       "      <td>F/1/S</td>\n",
       "      <td>TRAPPIST-1e</td>\n",
       "      <td>16.0</td>\n",
       "      <td>False</td>\n",
       "      <td>303.0</td>\n",
       "      <td>70.0</td>\n",
       "      <td>151.0</td>\n",
       "      <td>565.00</td>\n",
       "      <td>2.0</td>\n",
       "      <td>Willy Santantines</td>\n",
       "      <td>0004</td>\n",
       "      <td>Solo</td>\n",
       "      <td>F</td>\n",
       "      <td>Higher</td>\n",
       "      <td>S</td>\n",
       "      <td>221.0</td>\n",
       "      <td>870.00</td>\n",
       "      <td>1091.00</td>\n",
       "      <td>988.676218</td>\n",
       "      <td>Santantines</td>\n",
       "      <td>9</td>\n",
       "      <td>6 - 10</td>\n",
       "    </tr>\n",
       "  </tbody>\n",
       "</table>\n",
       "</div>"
      ],
      "text/plain": [
       "  PassengerId HomePlanet  CryoSleep  Cabin  Destination   Age    VIP  \\\n",
       "0     0001_01     Europa      False  B/0/P  TRAPPIST-1e  39.0  False   \n",
       "1     0002_01      Earth      False  F/0/S  TRAPPIST-1e  24.0  False   \n",
       "2     0003_01     Europa      False  A/0/S  TRAPPIST-1e  58.0   True   \n",
       "3     0003_02     Europa      False  A/0/S  TRAPPIST-1e  33.0  False   \n",
       "4     0004_01      Earth      False  F/1/S  TRAPPIST-1e  16.0  False   \n",
       "\n",
       "   RoomService  FoodCourt  ShoppingMall      Spa  VRDeck               Name  \\\n",
       "0          0.0        0.0           0.0     0.00     0.0    Maham Ofracculy   \n",
       "1        109.0        9.0          25.0   549.00    44.0       Juanna Vines   \n",
       "2         43.0     3576.0           0.0  5382.86    49.0      Altark Susent   \n",
       "3          0.0     1283.0         371.0  3329.00   193.0       Solam Susent   \n",
       "4        303.0       70.0         151.0   565.00     2.0  Willy Santantines   \n",
       "\n",
       "  Group ItSolo CabinDeck DeckPosition CabinSide  Regular   Luxury  \\\n",
       "0  0001   Solo         B        Lower         P      0.0     0.00   \n",
       "1  0002   Solo         F       Higher         S     34.0   702.00   \n",
       "2  0003  Group         A        Lower         S   3576.0  5474.86   \n",
       "3  0003  Group         A        Lower         S   1654.0  3522.00   \n",
       "4  0004   Solo         F       Higher         S    221.0   870.00   \n",
       "\n",
       "   TotalSpendings  DeckAverageSpent   FamilyName  NumRelatives FamilySize  \n",
       "0            0.00       2425.390365    Ofracculy             3      3 - 5  \n",
       "1          736.00        988.676218        Vines             4      3 - 5  \n",
       "2         9050.86       3021.123690       Susent             7     6 - 10  \n",
       "3         5176.00       3021.123690       Susent             7     6 - 10  \n",
       "4         1091.00        988.676218  Santantines             9     6 - 10  "
      ]
     },
     "execution_count": 38,
     "metadata": {},
     "output_type": "execute_result"
    }
   ],
   "source": [
    "data_2.head()"
   ]
  },
  {
   "cell_type": "markdown",
   "id": "75ddbecc",
   "metadata": {
    "papermill": {
     "duration": 0.035067,
     "end_time": "2022-10-30T14:40:30.187990",
     "exception": false,
     "start_time": "2022-10-30T14:40:30.152923",
     "status": "completed"
    },
    "tags": []
   },
   "source": [
    "*ทำการ drop ตัวแปรที่ใช้ในการสร้าง Features ที่ไม่มีความเกี่ยวข้องเพื่อลด Outlier จาก Dataset*\n"
   ]
  },
  {
   "cell_type": "code",
   "execution_count": 39,
   "id": "b78c9a15",
   "metadata": {
    "execution": {
     "iopub.execute_input": "2022-10-30T14:40:30.261159Z",
     "iopub.status.busy": "2022-10-30T14:40:30.260412Z",
     "iopub.status.idle": "2022-10-30T14:40:30.280746Z",
     "shell.execute_reply": "2022-10-30T14:40:30.279677Z"
    },
    "papermill": {
     "duration": 0.059804,
     "end_time": "2022-10-30T14:40:30.283107",
     "exception": false,
     "start_time": "2022-10-30T14:40:30.223303",
     "status": "completed"
    },
    "tags": []
   },
   "outputs": [
    {
     "data": {
      "text/plain": [
       "(12970, 15)"
      ]
     },
     "execution_count": 39,
     "metadata": {},
     "output_type": "execute_result"
    }
   ],
   "source": [
    "data_3 = data_2.copy()\n",
    "irrelevant_columns = [\"Cabin\", \"PassengerId\", \"RoomService\", \"FoodCourt\", \"ShoppingMall\", \"Spa\", \"VRDeck\", \"Name\", \"FamilyName\", \"Group\"]\n",
    "data_3 = data_3.drop(irrelevant_columns, axis = 1)\n",
    "\n",
    "data_3.shape"
   ]
  },
  {
   "cell_type": "markdown",
   "id": "0d9aab6d",
   "metadata": {
    "papermill": {
     "duration": 0.035743,
     "end_time": "2022-10-30T14:40:30.354404",
     "exception": false,
     "start_time": "2022-10-30T14:40:30.318661",
     "status": "completed"
    },
    "tags": []
   },
   "source": [
    " **One hot Encoding**"
   ]
  },
  {
   "cell_type": "markdown",
   "id": "d23bc813",
   "metadata": {
    "papermill": {
     "duration": 0.03602,
     "end_time": "2022-10-30T14:40:30.425875",
     "exception": false,
     "start_time": "2022-10-30T14:40:30.389855",
     "status": "completed"
    },
    "tags": []
   },
   "source": [
    "*แปลงข้อมูลที่เป็น Categorical ให้เป็นข้อมูล Numerical ด้วยวิธี One hot Encoding เนื่องจากคอมพิวเตอร์นั้นสามารถเข้าใจได้เฉพาะตัวเลข โดยข้อมูลที่ Encode แบบ One Hot จะช่วยให้model Machine Learning ทำงานได้ง่ายขึ้น*"
   ]
  },
  {
   "cell_type": "code",
   "execution_count": 40,
   "id": "3b0d19ee",
   "metadata": {
    "execution": {
     "iopub.execute_input": "2022-10-30T14:40:30.500091Z",
     "iopub.status.busy": "2022-10-30T14:40:30.499379Z",
     "iopub.status.idle": "2022-10-30T14:40:30.523385Z",
     "shell.execute_reply": "2022-10-30T14:40:30.522517Z"
    },
    "papermill": {
     "duration": 0.064124,
     "end_time": "2022-10-30T14:40:30.525922",
     "exception": false,
     "start_time": "2022-10-30T14:40:30.461798",
     "status": "completed"
    },
    "tags": []
   },
   "outputs": [],
   "source": [
    "# Categorical Encoding\n",
    "data_3 = pd.get_dummies(data_3, columns = ['HomePlanet', 'CryoSleep', 'Destination', 'VIP', 'CabinSide', 'ItSolo'])\n",
    "\n",
    "# Ordinal Encoding\n",
    "for col in ['CabinDeck', 'DeckPosition', 'FamilySize']:\n",
    "    data_3[col], _ = data_3[col].factorize()"
   ]
  },
  {
   "cell_type": "code",
   "execution_count": 41,
   "id": "d66820bf",
   "metadata": {
    "execution": {
     "iopub.execute_input": "2022-10-30T14:40:30.599755Z",
     "iopub.status.busy": "2022-10-30T14:40:30.599147Z",
     "iopub.status.idle": "2022-10-30T14:40:30.614841Z",
     "shell.execute_reply": "2022-10-30T14:40:30.613235Z"
    },
    "papermill": {
     "duration": 0.056398,
     "end_time": "2022-10-30T14:40:30.618409",
     "exception": false,
     "start_time": "2022-10-30T14:40:30.562011",
     "status": "completed"
    },
    "tags": []
   },
   "outputs": [
    {
     "name": "stdout",
     "output_type": "stream",
     "text": [
      "<class 'pandas.core.frame.DataFrame'>\n",
      "Int64Index: 12970 entries, 0 to 12969\n",
      "Data columns (total 23 columns):\n",
      " #   Column                     Non-Null Count  Dtype  \n",
      "---  ------                     --------------  -----  \n",
      " 0   Age                        12970 non-null  float64\n",
      " 1   CabinDeck                  12970 non-null  int64  \n",
      " 2   DeckPosition               12970 non-null  int64  \n",
      " 3   Regular                    12970 non-null  float64\n",
      " 4   Luxury                     12970 non-null  float64\n",
      " 5   TotalSpendings             12970 non-null  float64\n",
      " 6   DeckAverageSpent           12970 non-null  float64\n",
      " 7   NumRelatives               12970 non-null  int64  \n",
      " 8   FamilySize                 12970 non-null  int64  \n",
      " 9   HomePlanet_Earth           12970 non-null  uint8  \n",
      " 10  HomePlanet_Europa          12970 non-null  uint8  \n",
      " 11  HomePlanet_Mars            12970 non-null  uint8  \n",
      " 12  CryoSleep_False            12970 non-null  uint8  \n",
      " 13  CryoSleep_True             12970 non-null  uint8  \n",
      " 14  Destination_55 Cancri e    12970 non-null  uint8  \n",
      " 15  Destination_PSO J318.5-22  12970 non-null  uint8  \n",
      " 16  Destination_TRAPPIST-1e    12970 non-null  uint8  \n",
      " 17  VIP_False                  12970 non-null  uint8  \n",
      " 18  VIP_True                   12970 non-null  uint8  \n",
      " 19  CabinSide_P                12970 non-null  uint8  \n",
      " 20  CabinSide_S                12970 non-null  uint8  \n",
      " 21  ItSolo_Group               12970 non-null  uint8  \n",
      " 22  ItSolo_Solo                12970 non-null  uint8  \n",
      "dtypes: float64(5), int64(4), uint8(14)\n",
      "memory usage: 1.2 MB\n"
     ]
    }
   ],
   "source": [
    "data_3.info()"
   ]
  },
  {
   "cell_type": "markdown",
   "id": "e973156b",
   "metadata": {
    "papermill": {
     "duration": 0.036791,
     "end_time": "2022-10-30T14:40:30.691971",
     "exception": false,
     "start_time": "2022-10-30T14:40:30.655180",
     "status": "completed"
    },
    "tags": []
   },
   "source": [
    "> Features ทั้งหมดที่ใช้ ได้แก่ Age, CabinDeck, DeckPosition, Regular, Luxury, TotalSpendings, DeckAverageSpent, NumRelatives, FamilySize, HomePlanet_Earth, HomePlanet_Europa, HomePlanet_Mars, CryoSleep_False, CryoSleep_True, Destination_55 Cancri e, Destination_PSO J318.5-22, Destination_TRAPPIST-1e, VIP_False, VIP_True, CabinSide_P, CabinSide_S, ItSolo_Group และ ItSolo_Solo"
   ]
  },
  {
   "cell_type": "markdown",
   "id": "f762bec8",
   "metadata": {
    "papermill": {
     "duration": 0.035301,
     "end_time": "2022-10-30T14:40:30.762750",
     "exception": false,
     "start_time": "2022-10-30T14:40:30.727449",
     "status": "completed"
    },
    "tags": []
   },
   "source": [
    "*Split ข้อมูลกลับแล้วตรวจสอบ shape ของข้อมูล train และ test เพื่อให้แน่ใจว่าข้อมูลของเราถูกต้อง*"
   ]
  },
  {
   "cell_type": "code",
   "execution_count": 42,
   "id": "f2798a08",
   "metadata": {
    "execution": {
     "iopub.execute_input": "2022-10-30T14:40:30.837580Z",
     "iopub.status.busy": "2022-10-30T14:40:30.837169Z",
     "iopub.status.idle": "2022-10-30T14:40:30.847625Z",
     "shell.execute_reply": "2022-10-30T14:40:30.846204Z"
    },
    "papermill": {
     "duration": 0.050529,
     "end_time": "2022-10-30T14:40:30.849944",
     "exception": false,
     "start_time": "2022-10-30T14:40:30.799415",
     "status": "completed"
    },
    "tags": []
   },
   "outputs": [
    {
     "name": "stdout",
     "output_type": "stream",
     "text": [
      "(8693, 23)\n",
      "(4277, 23)\n"
     ]
    }
   ],
   "source": [
    "data_4 = data_3.copy()\n",
    "train_final = data_4.loc[:train_df.index.max(),  :].copy()\n",
    "test_final = data_4.loc[train_df.index.max() + 1:, :].reset_index(drop = True).copy()\n",
    "\n",
    "# print shape of final train data\n",
    "print(train_final.shape)\n",
    "\n",
    "# print shape of final test data\n",
    "print(test_final.shape)"
   ]
  },
  {
   "cell_type": "code",
   "execution_count": 43,
   "id": "348cd1d1",
   "metadata": {
    "execution": {
     "iopub.execute_input": "2022-10-30T14:40:30.924608Z",
     "iopub.status.busy": "2022-10-30T14:40:30.923377Z",
     "iopub.status.idle": "2022-10-30T14:40:30.944976Z",
     "shell.execute_reply": "2022-10-30T14:40:30.943706Z"
    },
    "papermill": {
     "duration": 0.061366,
     "end_time": "2022-10-30T14:40:30.947368",
     "exception": false,
     "start_time": "2022-10-30T14:40:30.886002",
     "status": "completed"
    },
    "tags": []
   },
   "outputs": [
    {
     "data": {
      "text/html": [
       "<div>\n",
       "<style scoped>\n",
       "    .dataframe tbody tr th:only-of-type {\n",
       "        vertical-align: middle;\n",
       "    }\n",
       "\n",
       "    .dataframe tbody tr th {\n",
       "        vertical-align: top;\n",
       "    }\n",
       "\n",
       "    .dataframe thead th {\n",
       "        text-align: right;\n",
       "    }\n",
       "</style>\n",
       "<table border=\"1\" class=\"dataframe\">\n",
       "  <thead>\n",
       "    <tr style=\"text-align: right;\">\n",
       "      <th></th>\n",
       "      <th>Age</th>\n",
       "      <th>CabinDeck</th>\n",
       "      <th>DeckPosition</th>\n",
       "      <th>Regular</th>\n",
       "      <th>Luxury</th>\n",
       "      <th>TotalSpendings</th>\n",
       "      <th>DeckAverageSpent</th>\n",
       "      <th>NumRelatives</th>\n",
       "      <th>FamilySize</th>\n",
       "      <th>HomePlanet_Earth</th>\n",
       "      <th>HomePlanet_Europa</th>\n",
       "      <th>HomePlanet_Mars</th>\n",
       "      <th>CryoSleep_False</th>\n",
       "      <th>CryoSleep_True</th>\n",
       "      <th>Destination_55 Cancri e</th>\n",
       "      <th>Destination_PSO J318.5-22</th>\n",
       "      <th>Destination_TRAPPIST-1e</th>\n",
       "      <th>VIP_False</th>\n",
       "      <th>VIP_True</th>\n",
       "      <th>CabinSide_P</th>\n",
       "      <th>CabinSide_S</th>\n",
       "      <th>ItSolo_Group</th>\n",
       "      <th>ItSolo_Solo</th>\n",
       "    </tr>\n",
       "  </thead>\n",
       "  <tbody>\n",
       "    <tr>\n",
       "      <th>0</th>\n",
       "      <td>39.0</td>\n",
       "      <td>0</td>\n",
       "      <td>0</td>\n",
       "      <td>0.0</td>\n",
       "      <td>0.00</td>\n",
       "      <td>0.00</td>\n",
       "      <td>2425.390365</td>\n",
       "      <td>3</td>\n",
       "      <td>0</td>\n",
       "      <td>0</td>\n",
       "      <td>1</td>\n",
       "      <td>0</td>\n",
       "      <td>1</td>\n",
       "      <td>0</td>\n",
       "      <td>0</td>\n",
       "      <td>0</td>\n",
       "      <td>1</td>\n",
       "      <td>1</td>\n",
       "      <td>0</td>\n",
       "      <td>1</td>\n",
       "      <td>0</td>\n",
       "      <td>0</td>\n",
       "      <td>1</td>\n",
       "    </tr>\n",
       "    <tr>\n",
       "      <th>1</th>\n",
       "      <td>24.0</td>\n",
       "      <td>1</td>\n",
       "      <td>1</td>\n",
       "      <td>34.0</td>\n",
       "      <td>702.00</td>\n",
       "      <td>736.00</td>\n",
       "      <td>988.676218</td>\n",
       "      <td>4</td>\n",
       "      <td>0</td>\n",
       "      <td>1</td>\n",
       "      <td>0</td>\n",
       "      <td>0</td>\n",
       "      <td>1</td>\n",
       "      <td>0</td>\n",
       "      <td>0</td>\n",
       "      <td>0</td>\n",
       "      <td>1</td>\n",
       "      <td>1</td>\n",
       "      <td>0</td>\n",
       "      <td>0</td>\n",
       "      <td>1</td>\n",
       "      <td>0</td>\n",
       "      <td>1</td>\n",
       "    </tr>\n",
       "    <tr>\n",
       "      <th>2</th>\n",
       "      <td>58.0</td>\n",
       "      <td>2</td>\n",
       "      <td>0</td>\n",
       "      <td>3576.0</td>\n",
       "      <td>5474.86</td>\n",
       "      <td>9050.86</td>\n",
       "      <td>3021.123690</td>\n",
       "      <td>7</td>\n",
       "      <td>1</td>\n",
       "      <td>0</td>\n",
       "      <td>1</td>\n",
       "      <td>0</td>\n",
       "      <td>1</td>\n",
       "      <td>0</td>\n",
       "      <td>0</td>\n",
       "      <td>0</td>\n",
       "      <td>1</td>\n",
       "      <td>0</td>\n",
       "      <td>1</td>\n",
       "      <td>0</td>\n",
       "      <td>1</td>\n",
       "      <td>1</td>\n",
       "      <td>0</td>\n",
       "    </tr>\n",
       "    <tr>\n",
       "      <th>3</th>\n",
       "      <td>33.0</td>\n",
       "      <td>2</td>\n",
       "      <td>0</td>\n",
       "      <td>1654.0</td>\n",
       "      <td>3522.00</td>\n",
       "      <td>5176.00</td>\n",
       "      <td>3021.123690</td>\n",
       "      <td>7</td>\n",
       "      <td>1</td>\n",
       "      <td>0</td>\n",
       "      <td>1</td>\n",
       "      <td>0</td>\n",
       "      <td>1</td>\n",
       "      <td>0</td>\n",
       "      <td>0</td>\n",
       "      <td>0</td>\n",
       "      <td>1</td>\n",
       "      <td>1</td>\n",
       "      <td>0</td>\n",
       "      <td>0</td>\n",
       "      <td>1</td>\n",
       "      <td>1</td>\n",
       "      <td>0</td>\n",
       "    </tr>\n",
       "    <tr>\n",
       "      <th>4</th>\n",
       "      <td>16.0</td>\n",
       "      <td>1</td>\n",
       "      <td>1</td>\n",
       "      <td>221.0</td>\n",
       "      <td>870.00</td>\n",
       "      <td>1091.00</td>\n",
       "      <td>988.676218</td>\n",
       "      <td>9</td>\n",
       "      <td>1</td>\n",
       "      <td>1</td>\n",
       "      <td>0</td>\n",
       "      <td>0</td>\n",
       "      <td>1</td>\n",
       "      <td>0</td>\n",
       "      <td>0</td>\n",
       "      <td>0</td>\n",
       "      <td>1</td>\n",
       "      <td>1</td>\n",
       "      <td>0</td>\n",
       "      <td>0</td>\n",
       "      <td>1</td>\n",
       "      <td>0</td>\n",
       "      <td>1</td>\n",
       "    </tr>\n",
       "  </tbody>\n",
       "</table>\n",
       "</div>"
      ],
      "text/plain": [
       "    Age  CabinDeck  DeckPosition  Regular   Luxury  TotalSpendings  \\\n",
       "0  39.0          0             0      0.0     0.00            0.00   \n",
       "1  24.0          1             1     34.0   702.00          736.00   \n",
       "2  58.0          2             0   3576.0  5474.86         9050.86   \n",
       "3  33.0          2             0   1654.0  3522.00         5176.00   \n",
       "4  16.0          1             1    221.0   870.00         1091.00   \n",
       "\n",
       "   DeckAverageSpent  NumRelatives  FamilySize  HomePlanet_Earth  \\\n",
       "0       2425.390365             3           0                 0   \n",
       "1        988.676218             4           0                 1   \n",
       "2       3021.123690             7           1                 0   \n",
       "3       3021.123690             7           1                 0   \n",
       "4        988.676218             9           1                 1   \n",
       "\n",
       "   HomePlanet_Europa  HomePlanet_Mars  CryoSleep_False  CryoSleep_True  \\\n",
       "0                  1                0                1               0   \n",
       "1                  0                0                1               0   \n",
       "2                  1                0                1               0   \n",
       "3                  1                0                1               0   \n",
       "4                  0                0                1               0   \n",
       "\n",
       "   Destination_55 Cancri e  Destination_PSO J318.5-22  \\\n",
       "0                        0                          0   \n",
       "1                        0                          0   \n",
       "2                        0                          0   \n",
       "3                        0                          0   \n",
       "4                        0                          0   \n",
       "\n",
       "   Destination_TRAPPIST-1e  VIP_False  VIP_True  CabinSide_P  CabinSide_S  \\\n",
       "0                        1          1         0            1            0   \n",
       "1                        1          1         0            0            1   \n",
       "2                        1          0         1            0            1   \n",
       "3                        1          1         0            0            1   \n",
       "4                        1          1         0            0            1   \n",
       "\n",
       "   ItSolo_Group  ItSolo_Solo  \n",
       "0             0            1  \n",
       "1             0            1  \n",
       "2             1            0  \n",
       "3             1            0  \n",
       "4             0            1  "
      ]
     },
     "execution_count": 43,
     "metadata": {},
     "output_type": "execute_result"
    }
   ],
   "source": [
    "data_4.head()"
   ]
  },
  {
   "cell_type": "code",
   "execution_count": 44,
   "id": "b419beb6",
   "metadata": {
    "execution": {
     "iopub.execute_input": "2022-10-30T14:40:31.022458Z",
     "iopub.status.busy": "2022-10-30T14:40:31.022040Z",
     "iopub.status.idle": "2022-10-30T14:40:31.026798Z",
     "shell.execute_reply": "2022-10-30T14:40:31.025635Z"
    },
    "papermill": {
     "duration": 0.044662,
     "end_time": "2022-10-30T14:40:31.029140",
     "exception": false,
     "start_time": "2022-10-30T14:40:30.984478",
     "status": "completed"
    },
    "tags": []
   },
   "outputs": [],
   "source": [
    "#train_final.info()"
   ]
  },
  {
   "cell_type": "code",
   "execution_count": 45,
   "id": "20f75172",
   "metadata": {
    "execution": {
     "iopub.execute_input": "2022-10-30T14:40:31.103314Z",
     "iopub.status.busy": "2022-10-30T14:40:31.102586Z",
     "iopub.status.idle": "2022-10-30T14:40:31.106608Z",
     "shell.execute_reply": "2022-10-30T14:40:31.105795Z"
    },
    "papermill": {
     "duration": 0.043251,
     "end_time": "2022-10-30T14:40:31.108506",
     "exception": false,
     "start_time": "2022-10-30T14:40:31.065255",
     "status": "completed"
    },
    "tags": []
   },
   "outputs": [],
   "source": [
    "#test_final.info()"
   ]
  },
  {
   "cell_type": "markdown",
   "id": "3d67af4f",
   "metadata": {
    "papermill": {
     "duration": 0.037039,
     "end_time": "2022-10-30T14:40:31.181883",
     "exception": false,
     "start_time": "2022-10-30T14:40:31.144844",
     "status": "completed"
    },
    "tags": []
   },
   "source": [
    "*ทำการแบ่งข้อมูลที่ใช้ในการ train และ test*"
   ]
  },
  {
   "cell_type": "code",
   "execution_count": 46,
   "id": "054a0504",
   "metadata": {
    "execution": {
     "iopub.execute_input": "2022-10-30T14:40:31.256135Z",
     "iopub.status.busy": "2022-10-30T14:40:31.255405Z",
     "iopub.status.idle": "2022-10-30T14:40:31.264100Z",
     "shell.execute_reply": "2022-10-30T14:40:31.263209Z"
    },
    "papermill": {
     "duration": 0.048619,
     "end_time": "2022-10-30T14:40:31.266231",
     "exception": false,
     "start_time": "2022-10-30T14:40:31.217612",
     "status": "completed"
    },
    "tags": []
   },
   "outputs": [],
   "source": [
    "X = train_final.copy()\n",
    "\n",
    "# save target variable in in y\n",
    "y = target.astype(int)\n",
    "X_train, X_test, y_train, y_test = train_test_split(X,y,test_size =0.2, random_state = 40)"
   ]
  },
  {
   "cell_type": "markdown",
   "id": "9033615c",
   "metadata": {
    "papermill": {
     "duration": 0.035769,
     "end_time": "2022-10-30T14:40:31.338775",
     "exception": false,
     "start_time": "2022-10-30T14:40:31.303006",
     "status": "completed"
    },
    "tags": []
   },
   "source": [
    "# Model building\n"
   ]
  },
  {
   "cell_type": "markdown",
   "id": "57acb6dd",
   "metadata": {
    "papermill": {
     "duration": 0.036591,
     "end_time": "2022-10-30T14:40:31.411485",
     "exception": false,
     "start_time": "2022-10-30T14:40:31.374894",
     "status": "completed"
    },
    "tags": []
   },
   "source": [
    "*สร้าง Model ที่ใช้ในการทำนาย ได้แก่*\n",
    "\n",
    "*Logistic Regression               \n",
    "KNN-Classifier                    \n",
    "Decision Tree                    \n",
    "Random Forest                    \n",
    "Random Forest Tune by Grid Search  \n",
    "Naive Bayese                             \n",
    "Stochastics Gradient Descent*"
   ]
  },
  {
   "cell_type": "markdown",
   "id": "25fcff56",
   "metadata": {
    "papermill": {
     "duration": 0.03591,
     "end_time": "2022-10-30T14:40:31.486269",
     "exception": false,
     "start_time": "2022-10-30T14:40:31.450359",
     "status": "completed"
    },
    "tags": []
   },
   "source": [
    "**Logistic Regression**"
   ]
  },
  {
   "cell_type": "code",
   "execution_count": 47,
   "id": "cad15095",
   "metadata": {
    "execution": {
     "iopub.execute_input": "2022-10-30T14:40:31.561626Z",
     "iopub.status.busy": "2022-10-30T14:40:31.560898Z",
     "iopub.status.idle": "2022-10-30T14:40:31.779896Z",
     "shell.execute_reply": "2022-10-30T14:40:31.778700Z"
    },
    "papermill": {
     "duration": 0.261255,
     "end_time": "2022-10-30T14:40:31.783955",
     "exception": false,
     "start_time": "2022-10-30T14:40:31.522700",
     "status": "completed"
    },
    "tags": []
   },
   "outputs": [
    {
     "name": "stdout",
     "output_type": "stream",
     "text": [
      "[[673 207]\n",
      " [159 700]]\n",
      "              precision    recall  f1-score   support\n",
      "\n",
      "           0       0.81      0.76      0.79       880\n",
      "           1       0.77      0.81      0.79       859\n",
      "\n",
      "    accuracy                           0.79      1739\n",
      "   macro avg       0.79      0.79      0.79      1739\n",
      "weighted avg       0.79      0.79      0.79      1739\n",
      "\n",
      "0.78953421506613\n"
     ]
    }
   ],
   "source": [
    "#Predict our Test data using Logistic Regression\n",
    "logmodel= LogisticRegression()\n",
    "logmodel.fit(X_train, y_train)\n",
    "predicted_lr = logmodel.predict(X_test)\n",
    "#Evaluate our logistic regression model\n",
    "print(confusion_matrix(y_test, predicted_lr))\n",
    "print(classification_report(y_test, predicted_lr))\n",
    "print(logmodel.score(X_test, y_test))"
   ]
  },
  {
   "cell_type": "markdown",
   "id": "aecce2c8",
   "metadata": {
    "papermill": {
     "duration": 0.048435,
     "end_time": "2022-10-30T14:40:31.925208",
     "exception": false,
     "start_time": "2022-10-30T14:40:31.876773",
     "status": "completed"
    },
    "tags": []
   },
   "source": [
    "**K-Nearest Neighbor Classifier**"
   ]
  },
  {
   "cell_type": "code",
   "execution_count": 48,
   "id": "5d2695db",
   "metadata": {
    "execution": {
     "iopub.execute_input": "2022-10-30T14:40:31.999478Z",
     "iopub.status.busy": "2022-10-30T14:40:31.999088Z",
     "iopub.status.idle": "2022-10-30T14:40:32.416137Z",
     "shell.execute_reply": "2022-10-30T14:40:32.414082Z"
    },
    "papermill": {
     "duration": 0.457981,
     "end_time": "2022-10-30T14:40:32.419302",
     "exception": false,
     "start_time": "2022-10-30T14:40:31.961321",
     "status": "completed"
    },
    "tags": []
   },
   "outputs": [
    {
     "name": "stdout",
     "output_type": "stream",
     "text": [
      "[[677 203]\n",
      " [194 665]]\n",
      "              precision    recall  f1-score   support\n",
      "\n",
      "           0       0.78      0.77      0.77       880\n",
      "           1       0.77      0.77      0.77       859\n",
      "\n",
      "    accuracy                           0.77      1739\n",
      "   macro avg       0.77      0.77      0.77      1739\n",
      "weighted avg       0.77      0.77      0.77      1739\n",
      "\n"
     ]
    }
   ],
   "source": [
    "#KNN classifier \n",
    "KN_calssifier = KNeighborsClassifier()\n",
    "KN_calssifier.fit(X_train, y_train)\n",
    "predicted_kn = KN_calssifier.predict(X_test)\n",
    "print(confusion_matrix(y_test, predicted_kn))\n",
    "print(classification_report(y_test, predicted_kn))"
   ]
  },
  {
   "cell_type": "code",
   "execution_count": 49,
   "id": "e34c6b25",
   "metadata": {
    "execution": {
     "iopub.execute_input": "2022-10-30T14:40:32.495569Z",
     "iopub.status.busy": "2022-10-30T14:40:32.494478Z",
     "iopub.status.idle": "2022-10-30T14:40:54.734176Z",
     "shell.execute_reply": "2022-10-30T14:40:54.733278Z"
    },
    "papermill": {
     "duration": 22.279483,
     "end_time": "2022-10-30T14:40:54.736638",
     "exception": false,
     "start_time": "2022-10-30T14:40:32.457155",
     "status": "completed"
    },
    "tags": []
   },
   "outputs": [],
   "source": [
    "#For loop to try different K values\n",
    "error_rate = []\n",
    "for i in range(1,60):\n",
    "    knn = KNeighborsClassifier(n_neighbors=i)\n",
    "    knn.fit(X_train, y_train)\n",
    "    pred_i = knn.predict(X_test)\n",
    "    error_rate.append(np.mean(pred_i != y_test))"
   ]
  },
  {
   "cell_type": "code",
   "execution_count": 50,
   "id": "403cd499",
   "metadata": {
    "execution": {
     "iopub.execute_input": "2022-10-30T14:40:54.810888Z",
     "iopub.status.busy": "2022-10-30T14:40:54.809783Z",
     "iopub.status.idle": "2022-10-30T14:40:55.033434Z",
     "shell.execute_reply": "2022-10-30T14:40:55.032244Z"
    },
    "papermill": {
     "duration": 0.263273,
     "end_time": "2022-10-30T14:40:55.036097",
     "exception": false,
     "start_time": "2022-10-30T14:40:54.772824",
     "status": "completed"
    },
    "tags": []
   },
   "outputs": [
    {
     "data": {
      "text/plain": [
       "Text(0, 0.5, 'Error Rate')"
      ]
     },
     "execution_count": 50,
     "metadata": {},
     "output_type": "execute_result"
    },
    {
     "data": {
      "image/png": "[encoded data removed]",
      "text/plain": [
       "<Figure size 720x432 with 1 Axes>"
      ]
     },
     "metadata": {},
     "output_type": "display_data"
    }
   ],
   "source": [
    "#Plt for-loop\n",
    "plt.figure(figsize = (10,6))\n",
    "plt.plot(range(1,60), error_rate, color = 'blue', linestyle = '--', marker = 'o',\n",
    "        markerfacecolor = 'red', markersize = 10)\n",
    "plt.title('Error Rate vs K')\n",
    "plt.xlabel('K')\n",
    "plt.ylabel(\"Error Rate\")"
   ]
  },
  {
   "cell_type": "code",
   "execution_count": 51,
   "id": "2906fddc",
   "metadata": {
    "execution": {
     "iopub.execute_input": "2022-10-30T14:40:55.111696Z",
     "iopub.status.busy": "2022-10-30T14:40:55.111318Z",
     "iopub.status.idle": "2022-10-30T14:40:55.893678Z",
     "shell.execute_reply": "2022-10-30T14:40:55.892183Z"
    },
    "papermill": {
     "duration": 0.822462,
     "end_time": "2022-10-30T14:40:55.896148",
     "exception": false,
     "start_time": "2022-10-30T14:40:55.073686",
     "status": "completed"
    },
    "tags": []
   },
   "outputs": [
    {
     "name": "stdout",
     "output_type": "stream",
     "text": [
      "              precision    recall  f1-score   support\n",
      "\n",
      "           0       0.81      0.76      0.79       880\n",
      "           1       0.77      0.82      0.80       859\n",
      "\n",
      "    accuracy                           0.79      1739\n",
      "   macro avg       0.79      0.79      0.79      1739\n",
      "weighted avg       0.79      0.79      0.79      1739\n",
      "\n",
      "[[669 211]\n",
      " [152 707]]\n",
      "0.7912593444508338\n"
     ]
    }
   ],
   "source": [
    "#KNN classifier after hypertuning\n",
    "KN_calssifier = KNeighborsClassifier(n_neighbors=34)\n",
    "KN_calssifier.fit(X_train, y_train)\n",
    "predicted_kn = KN_calssifier.predict(X_test)\n",
    "print(classification_report(y_test, predicted_kn))\n",
    "print(confusion_matrix(y_test, predicted_kn))\n",
    "print(KN_calssifier.score(X_test, y_test))"
   ]
  },
  {
   "cell_type": "markdown",
   "id": "eb8b8d51",
   "metadata": {
    "papermill": {
     "duration": 0.036131,
     "end_time": "2022-10-30T14:40:55.969342",
     "exception": false,
     "start_time": "2022-10-30T14:40:55.933211",
     "status": "completed"
    },
    "tags": []
   },
   "source": [
    "**Decision Tree Classifier**"
   ]
  },
  {
   "cell_type": "code",
   "execution_count": 52,
   "id": "247af4a1",
   "metadata": {
    "execution": {
     "iopub.execute_input": "2022-10-30T14:40:56.044624Z",
     "iopub.status.busy": "2022-10-30T14:40:56.044239Z",
     "iopub.status.idle": "2022-10-30T14:40:56.108467Z",
     "shell.execute_reply": "2022-10-30T14:40:56.106875Z"
    },
    "papermill": {
     "duration": 0.105321,
     "end_time": "2022-10-30T14:40:56.111056",
     "exception": false,
     "start_time": "2022-10-30T14:40:56.005735",
     "status": "completed"
    },
    "tags": []
   },
   "outputs": [
    {
     "name": "stdout",
     "output_type": "stream",
     "text": [
      "[[654 226]\n",
      " [227 632]]\n",
      "              precision    recall  f1-score   support\n",
      "\n",
      "           0       0.74      0.74      0.74       880\n",
      "           1       0.74      0.74      0.74       859\n",
      "\n",
      "    accuracy                           0.74      1739\n",
      "   macro avg       0.74      0.74      0.74      1739\n",
      "weighted avg       0.74      0.74      0.74      1739\n",
      "\n",
      "0.7395054629097182\n"
     ]
    }
   ],
   "source": [
    "dtree = DecisionTreeClassifier()\n",
    "dtree.fit(X_train, y_train)\n",
    "predictions_dt = dtree.predict(X_test)\n",
    "print(confusion_matrix(y_test, predictions_dt))\n",
    "print(classification_report(y_test, predictions_dt))\n",
    "print(dtree.score(X_test, y_test))"
   ]
  },
  {
   "cell_type": "markdown",
   "id": "56faa1a2",
   "metadata": {
    "papermill": {
     "duration": 0.036593,
     "end_time": "2022-10-30T14:40:56.184269",
     "exception": false,
     "start_time": "2022-10-30T14:40:56.147676",
     "status": "completed"
    },
    "tags": []
   },
   "source": [
    "**Naive Bayes**"
   ]
  },
  {
   "cell_type": "code",
   "execution_count": 53,
   "id": "f75659ce",
   "metadata": {
    "execution": {
     "iopub.execute_input": "2022-10-30T14:40:56.259619Z",
     "iopub.status.busy": "2022-10-30T14:40:56.258390Z",
     "iopub.status.idle": "2022-10-30T14:40:56.284468Z",
     "shell.execute_reply": "2022-10-30T14:40:56.283107Z"
    },
    "papermill": {
     "duration": 0.066079,
     "end_time": "2022-10-30T14:40:56.286769",
     "exception": false,
     "start_time": "2022-10-30T14:40:56.220690",
     "status": "completed"
    },
    "tags": []
   },
   "outputs": [
    {
     "name": "stdout",
     "output_type": "stream",
     "text": [
      "[[716 164]\n",
      " [232 627]]\n",
      "              precision    recall  f1-score   support\n",
      "\n",
      "           0       0.76      0.81      0.78       880\n",
      "           1       0.79      0.73      0.76       859\n",
      "\n",
      "    accuracy                           0.77      1739\n",
      "   macro avg       0.77      0.77      0.77      1739\n",
      "weighted avg       0.77      0.77      0.77      1739\n",
      "\n",
      "0.7722829212190915\n"
     ]
    }
   ],
   "source": [
    "NB = GaussianNB()\n",
    "NB.fit(X_train, y_train)\n",
    "predictions_nb = NB.predict(X_test)\n",
    "print(confusion_matrix(y_test, predictions_nb))\n",
    "print(classification_report(y_test, predictions_nb))\n",
    "print(NB.score(X_test, y_test))"
   ]
  },
  {
   "cell_type": "markdown",
   "id": "075fe173",
   "metadata": {
    "papermill": {
     "duration": 0.036498,
     "end_time": "2022-10-30T14:40:56.360347",
     "exception": false,
     "start_time": "2022-10-30T14:40:56.323849",
     "status": "completed"
    },
    "tags": []
   },
   "source": [
    "**Stochastic Gradient Descent**"
   ]
  },
  {
   "cell_type": "code",
   "execution_count": 54,
   "id": "060f4357",
   "metadata": {
    "execution": {
     "iopub.execute_input": "2022-10-30T14:40:56.437585Z",
     "iopub.status.busy": "2022-10-30T14:40:56.436787Z",
     "iopub.status.idle": "2022-10-30T14:40:56.523570Z",
     "shell.execute_reply": "2022-10-30T14:40:56.521895Z"
    },
    "papermill": {
     "duration": 0.130719,
     "end_time": "2022-10-30T14:40:56.527878",
     "exception": false,
     "start_time": "2022-10-30T14:40:56.397159",
     "status": "completed"
    },
    "tags": []
   },
   "outputs": [
    {
     "name": "stdout",
     "output_type": "stream",
     "text": [
      "[[632 248]\n",
      " [122 737]]\n",
      "              precision    recall  f1-score   support\n",
      "\n",
      "           0       0.84      0.72      0.77       880\n",
      "           1       0.75      0.86      0.80       859\n",
      "\n",
      "    accuracy                           0.79      1739\n",
      "   macro avg       0.79      0.79      0.79      1739\n",
      "weighted avg       0.79      0.79      0.79      1739\n",
      "\n",
      "0.7872340425531915\n"
     ]
    }
   ],
   "source": [
    "sgd = make_pipeline(StandardScaler(),SGDClassifier(max_iter=1000, tol=1e-3))\n",
    "sgd.fit(X_train, y_train)\n",
    "predictions_sgd = sgd.predict(X_test)\n",
    "print(confusion_matrix(y_test, predictions_sgd))\n",
    "print(classification_report(y_test, predictions_sgd))\n",
    "print(sgd.score(X_test, y_test))"
   ]
  },
  {
   "cell_type": "markdown",
   "id": "f07b3c29",
   "metadata": {
    "papermill": {
     "duration": 0.045627,
     "end_time": "2022-10-30T14:40:56.671222",
     "exception": false,
     "start_time": "2022-10-30T14:40:56.625595",
     "status": "completed"
    },
    "tags": []
   },
   "source": [
    "**Random Forest Classifier**"
   ]
  },
  {
   "cell_type": "code",
   "execution_count": 55,
   "id": "47dc8432",
   "metadata": {
    "execution": {
     "iopub.execute_input": "2022-10-30T14:40:56.747984Z",
     "iopub.status.busy": "2022-10-30T14:40:56.747558Z",
     "iopub.status.idle": "2022-10-30T14:40:59.683646Z",
     "shell.execute_reply": "2022-10-30T14:40:59.682199Z"
    },
    "papermill": {
     "duration": 2.977621,
     "end_time": "2022-10-30T14:40:59.686296",
     "exception": false,
     "start_time": "2022-10-30T14:40:56.708675",
     "status": "completed"
    },
    "tags": []
   },
   "outputs": [
    {
     "name": "stdout",
     "output_type": "stream",
     "text": [
      "[[716 164]\n",
      " [198 661]]\n",
      "              precision    recall  f1-score   support\n",
      "\n",
      "           0       0.78      0.81      0.80       880\n",
      "           1       0.80      0.77      0.79       859\n",
      "\n",
      "    accuracy                           0.79      1739\n",
      "   macro avg       0.79      0.79      0.79      1739\n",
      "weighted avg       0.79      0.79      0.79      1739\n",
      "\n",
      "0.7918343875790684\n"
     ]
    }
   ],
   "source": [
    "rfc = RandomForestClassifier(n_estimators= 300)\n",
    "rfc.fit(X_train, y_train)\n",
    "predictions_rf = rfc.predict(X_test)\n",
    "print(confusion_matrix(y_test, predictions_rf))\n",
    "print(classification_report(y_test, predictions_rf))\n",
    "print(rfc.score(X_test, y_test))"
   ]
  },
  {
   "cell_type": "code",
   "execution_count": 56,
   "id": "971922d4",
   "metadata": {
    "execution": {
     "iopub.execute_input": "2022-10-30T14:40:59.762333Z",
     "iopub.status.busy": "2022-10-30T14:40:59.761970Z",
     "iopub.status.idle": "2022-10-30T14:41:00.348288Z",
     "shell.execute_reply": "2022-10-30T14:41:00.346435Z"
    },
    "papermill": {
     "duration": 0.631653,
     "end_time": "2022-10-30T14:41:00.355128",
     "exception": false,
     "start_time": "2022-10-30T14:40:59.723475",
     "status": "completed"
    },
    "tags": []
   },
   "outputs": [
    {
     "name": "stdout",
     "output_type": "stream",
     "text": [
      "----------------------------  -----------------\n",
      "Model                         Accuracy %\n",
      "Logistic Regression           78.953421506613\n",
      "KNN-Classifier                79.12593444508337\n",
      "Decision Tree                 73.95054629097181\n",
      "Random Forest                 79.18343875790684\n",
      "Naive Bayes                   77.22829212190915\n",
      "Stochastics Gradient Descent  78.72340425531915\n",
      "----------------------------  -----------------\n"
     ]
    }
   ],
   "source": [
    "#Compare all models\n",
    "table = [['Model', 'Accuracy %'], \n",
    "         ['Logistic Regression', logmodel.score(X_test, y_test) * 100], \n",
    "         ['KNN-Classifier',KN_calssifier.score(X_test, y_test) *100], \n",
    "         ['Decision Tree',dtree.score(X_test, y_test)*100], \n",
    "         ['Random Forest',rfc.score(X_test, y_test)*100],\n",
    "         ['Naive Bayes',NB.score(X_test, y_test)*100],  \n",
    "         ['Stochastics Gradient Descent',sgd.score(X_test, y_test)*100]]\n",
    "print(tabulate(table))"
   ]
  },
  {
   "cell_type": "markdown",
   "id": "c97ed4a3",
   "metadata": {
    "papermill": {
     "duration": 0.044471,
     "end_time": "2022-10-30T14:41:00.499184",
     "exception": false,
     "start_time": "2022-10-30T14:41:00.454713",
     "status": "completed"
    },
    "tags": []
   },
   "source": [
    "*เลือกใช้ Random Forest เนื่องจากมีค่า Accuracy % สูงที่สุด แล้วนำมาจูนด้วย Grid search เพื่อทำให้ model มีประสิทธิภาพเพิ่มมากขึ้น*"
   ]
  },
  {
   "cell_type": "code",
   "execution_count": 57,
   "id": "19876146",
   "metadata": {
    "execution": {
     "iopub.execute_input": "2022-10-30T14:41:00.575607Z",
     "iopub.status.busy": "2022-10-30T14:41:00.575226Z",
     "iopub.status.idle": "2022-10-30T14:46:01.673079Z",
     "shell.execute_reply": "2022-10-30T14:46:01.671994Z"
    },
    "papermill": {
     "duration": 301.176237,
     "end_time": "2022-10-30T14:46:01.713014",
     "exception": false,
     "start_time": "2022-10-30T14:41:00.536777",
     "status": "completed"
    },
    "tags": []
   },
   "outputs": [
    {
     "data": {
      "text/plain": [
       "RandomForestClassifier(max_depth=9, n_estimators=141, random_state=1)"
      ]
     },
     "execution_count": 57,
     "metadata": {},
     "output_type": "execute_result"
    }
   ],
   "source": [
    "# provide range for max_depth from 1 to 20 with an interval of 2 \n",
    "# provide range for n_estimators from 1 to 200 with an interval of 20\n",
    "paramgrid = {'max_depth': list(range(1, 20, 2)), \n",
    "             'n_estimators': list(range(1, 200, 20))}\n",
    "grid_search = GridSearchCV(RandomForestClassifier(random_state = 1), paramgrid)\n",
    "\n",
    "# fit the Grid search model\n",
    "grid_search.fit(X, y)\n",
    "\n",
    "# Estimating the optimized value\n",
    "grid_search.best_estimator_"
   ]
  },
  {
   "cell_type": "markdown",
   "id": "f8af6ba8",
   "metadata": {
    "papermill": {
     "duration": 0.037709,
     "end_time": "2022-10-30T14:46:01.789218",
     "exception": false,
     "start_time": "2022-10-30T14:46:01.751509",
     "status": "completed"
    },
    "tags": []
   },
   "source": [
    "*ใช้ค่า hyperparameters ที่ได้จากปรับโดยใช้ Grid search*"
   ]
  },
  {
   "cell_type": "code",
   "execution_count": 58,
   "id": "f4b728cf",
   "metadata": {
    "execution": {
     "iopub.execute_input": "2022-10-30T14:46:01.865869Z",
     "iopub.status.busy": "2022-10-30T14:46:01.865418Z",
     "iopub.status.idle": "2022-10-30T14:46:02.933382Z",
     "shell.execute_reply": "2022-10-30T14:46:02.932280Z"
    },
    "papermill": {
     "duration": 1.109198,
     "end_time": "2022-10-30T14:46:02.935759",
     "exception": false,
     "start_time": "2022-10-30T14:46:01.826561",
     "status": "completed"
    },
    "tags": []
   },
   "outputs": [
    {
     "data": {
      "text/plain": [
       "RandomForestClassifier(max_depth=9, n_estimators=141, random_state=1)"
      ]
     },
     "execution_count": 58,
     "metadata": {},
     "output_type": "execute_result"
    }
   ],
   "source": [
    "# build final model with these optimized values \n",
    "gridsearch = RandomForestClassifier(max_depth=9, n_estimators=141, random_state=1)\n",
    "\n",
    "# fit model on X and y\n",
    "gridsearch.fit(X, y)"
   ]
  },
  {
   "cell_type": "markdown",
   "id": "24c8ca6c",
   "metadata": {
    "papermill": {
     "duration": 0.037336,
     "end_time": "2022-10-30T14:46:03.012601",
     "exception": false,
     "start_time": "2022-10-30T14:46:02.975265",
     "status": "completed"
    },
    "tags": []
   },
   "source": [
    "*Cross Validation เพื่อดูค่าของ model ที่เปลี่ยนแปลงไป โดยจะพบว่าข้อมูลมีการกระจายเพิ่มมากขึ้น*"
   ]
  },
  {
   "cell_type": "code",
   "execution_count": 59,
   "id": "74132907",
   "metadata": {
    "execution": {
     "iopub.execute_input": "2022-10-30T14:46:03.090446Z",
     "iopub.status.busy": "2022-10-30T14:46:03.090037Z",
     "iopub.status.idle": "2022-10-30T14:46:04.856464Z",
     "shell.execute_reply": "2022-10-30T14:46:04.855126Z"
    },
    "papermill": {
     "duration": 1.809206,
     "end_time": "2022-10-30T14:46:04.859221",
     "exception": false,
     "start_time": "2022-10-30T14:46:03.050015",
     "status": "completed"
    },
    "tags": []
   },
   "outputs": [
    {
     "name": "stdout",
     "output_type": "stream",
     "text": [
      "0.8010384577163869\n",
      "0.013353894254438128\n"
     ]
    }
   ],
   "source": [
    "# store accuracy of each final model's prediction in result\n",
    "result_final = cross_val_score(gridsearch, X_test, y_test, cv = 5, scoring = \"accuracy\")\n",
    "\n",
    "# print mean and standard deviation of the accuracy of the final model\n",
    "\n",
    "print(np.mean(result_final))\n",
    "print(np.std(result_final))"
   ]
  },
  {
   "cell_type": "markdown",
   "id": "3c35133d",
   "metadata": {
    "papermill": {
     "duration": 0.037519,
     "end_time": "2022-10-30T14:46:04.934724",
     "exception": false,
     "start_time": "2022-10-30T14:46:04.897205",
     "status": "completed"
    },
    "tags": []
   },
   "source": [
    "# Predicting Test Data\n",
    "*โดยใช้ Random Forest Classifier model ที่ถูกปรับ hyperparameters โดยใช้ Grid search*"
   ]
  },
  {
   "cell_type": "code",
   "execution_count": 60,
   "id": "42580d72",
   "metadata": {
    "execution": {
     "iopub.execute_input": "2022-10-30T14:46:05.012251Z",
     "iopub.status.busy": "2022-10-30T14:46:05.011843Z",
     "iopub.status.idle": "2022-10-30T14:46:05.120540Z",
     "shell.execute_reply": "2022-10-30T14:46:05.119332Z"
    },
    "papermill": {
     "duration": 0.150847,
     "end_time": "2022-10-30T14:46:05.123445",
     "exception": false,
     "start_time": "2022-10-30T14:46:04.972598",
     "status": "completed"
    },
    "tags": []
   },
   "outputs": [],
   "source": [
    "# use final model to predict on the test data and store predictions in prediction \n",
    "prediction = gridsearch.predict(test_final)"
   ]
  },
  {
   "cell_type": "code",
   "execution_count": 61,
   "id": "ac557952",
   "metadata": {
    "execution": {
     "iopub.execute_input": "2022-10-30T14:46:05.203323Z",
     "iopub.status.busy": "2022-10-30T14:46:05.202370Z",
     "iopub.status.idle": "2022-10-30T14:46:05.232206Z",
     "shell.execute_reply": "2022-10-30T14:46:05.231021Z"
    },
    "papermill": {
     "duration": 0.071494,
     "end_time": "2022-10-30T14:46:05.234501",
     "exception": false,
     "start_time": "2022-10-30T14:46:05.163007",
     "status": "completed"
    },
    "tags": []
   },
   "outputs": [
    {
     "data": {
      "text/html": [
       "<div>\n",
       "<style scoped>\n",
       "    .dataframe tbody tr th:only-of-type {\n",
       "        vertical-align: middle;\n",
       "    }\n",
       "\n",
       "    .dataframe tbody tr th {\n",
       "        vertical-align: top;\n",
       "    }\n",
       "\n",
       "    .dataframe thead th {\n",
       "        text-align: right;\n",
       "    }\n",
       "</style>\n",
       "<table border=\"1\" class=\"dataframe\">\n",
       "  <thead>\n",
       "    <tr style=\"text-align: right;\">\n",
       "      <th></th>\n",
       "      <th>PassengerId</th>\n",
       "      <th>Transported</th>\n",
       "    </tr>\n",
       "  </thead>\n",
       "  <tbody>\n",
       "    <tr>\n",
       "      <th>0</th>\n",
       "      <td>0013_01</td>\n",
       "      <td>False</td>\n",
       "    </tr>\n",
       "    <tr>\n",
       "      <th>1</th>\n",
       "      <td>0018_01</td>\n",
       "      <td>False</td>\n",
       "    </tr>\n",
       "    <tr>\n",
       "      <th>2</th>\n",
       "      <td>0019_01</td>\n",
       "      <td>False</td>\n",
       "    </tr>\n",
       "    <tr>\n",
       "      <th>3</th>\n",
       "      <td>0021_01</td>\n",
       "      <td>False</td>\n",
       "    </tr>\n",
       "    <tr>\n",
       "      <th>4</th>\n",
       "      <td>0023_01</td>\n",
       "      <td>False</td>\n",
       "    </tr>\n",
       "  </tbody>\n",
       "</table>\n",
       "</div>"
      ],
      "text/plain": [
       "  PassengerId  Transported\n",
       "0     0013_01        False\n",
       "1     0018_01        False\n",
       "2     0019_01        False\n",
       "3     0021_01        False\n",
       "4     0023_01        False"
      ]
     },
     "execution_count": 61,
     "metadata": {},
     "output_type": "execute_result"
    }
   ],
   "source": [
    "sample_submission = pd.read_csv(\"../input/spaceship-titanic/sample_submission.csv\")\n",
    "sample_submission.head()"
   ]
  },
  {
   "cell_type": "code",
   "execution_count": 62,
   "id": "56a03a08",
   "metadata": {
    "execution": {
     "iopub.execute_input": "2022-10-30T14:46:05.314327Z",
     "iopub.status.busy": "2022-10-30T14:46:05.313680Z",
     "iopub.status.idle": "2022-10-30T14:46:05.328781Z",
     "shell.execute_reply": "2022-10-30T14:46:05.327905Z"
    },
    "papermill": {
     "duration": 0.058251,
     "end_time": "2022-10-30T14:46:05.331296",
     "exception": false,
     "start_time": "2022-10-30T14:46:05.273045",
     "status": "completed"
    },
    "tags": []
   },
   "outputs": [],
   "source": [
    "# store predictions in a dataframe\n",
    "pred_dict = {\"PassengerId\" : test_df[\"PassengerId\"], \"Transported\": prediction}\n",
    "pred_df = pd.DataFrame(pred_dict)\n",
    "\n",
    "# replacing 0 with False and 1 with True\n",
    "pred_df[\"Transported\"] = pred_df[\"Transported\"].map({1 : True, 0: False})\n",
    "\n",
    "# convert submission dataframe to .csv format\n",
    "pred_df.to_csv(\"submission.csv\", index = False)"
   ]
  },
  {
   "cell_type": "markdown",
   "id": "b98c658b",
   "metadata": {
    "papermill": {
     "duration": 0.037997,
     "end_time": "2022-10-30T14:46:05.407212",
     "exception": false,
     "start_time": "2022-10-30T14:46:05.369215",
     "status": "completed"
    },
    "tags": []
   },
   "source": [
    "# Referance\n",
    "* Zaynab Awofeso. (2022). *How To Score ~80% Accuracy in Kaggle’s Spaceship Titanic Competition*. Available at: https://medium.com/codex/how-to-score-80-accuracy-in-kaggles-spaceship-titanic-competition-using-random-forest-classifier-e7d06ce25bad (Accessed: October 10, 2022)\n",
    "\n",
    "* Mahmoud Hosny. (2022). *Sapceship Titanic Accuracy = 80%*. Available at: https://www.kaggle.com/code/mahmoudhosny/sapceship-titanic-accuracy-80/notebook#Predicting-Test-Data (Accessed: October 15, 2022)"
   ]
  }
 ],
 "metadata": {
  "kernelspec": {
   "display_name": "Python 3",
   "language": "python",
   "name": "python3"
  },
  "language_info": {
   "codemirror_mode": {
    "name": "ipython",
    "version": 3
   },
   "file_extension": ".py",
   "mimetype": "text/x-python",
   "name": "python",
   "nbconvert_exporter": "python",
   "pygments_lexer": "ipython3",
   "version": "3.7.12"
  },
  "papermill": {
   "default_parameters": {},
   "duration": 360.088675,
   "end_time": "2022-10-30T14:46:06.267578",
   "environment_variables": {},
   "exception": null,
   "input_path": "__notebook__.ipynb",
   "output_path": "__notebook__.ipynb",
   "parameters": {},
   "start_time": "2022-10-30T14:40:06.178903",
   "version": "2.3.4"
  }
 },
 "nbformat": 4,
 "nbformat_minor": 5
}
